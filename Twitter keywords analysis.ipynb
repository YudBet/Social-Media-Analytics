{
 "cells": [
  {
   "cell_type": "markdown",
   "metadata": {
    "collapsed": true
   },
   "source": [
    "# Twitter keywords analysis\n",
    "(a) twitter count  \n",
    "(b) tweet count  \n",
    "(c) bar chart of twitter count in month  \n",
    "(d) bar chart of tweet count in month  \n",
    "(e) pie chart of count of exist-url & no-url tweets  \n",
    "(f) box chart of tweet count of twitter in month  "
   ]
  },
  {
   "cell_type": "markdown",
   "metadata": {
    "collapsed": false
   },
   "source": [
    "# Keyword searching in tweet"
   ]
  },
  {
   "cell_type": "code",
   "execution_count": 1,
   "metadata": {
    "collapsed": false,
    "scrolled": true
   },
   "outputs": [
    {
     "name": "stdout",
     "output_type": "stream",
     "text": [
      "265\n"
     ]
    }
   ],
   "source": [
    "import pyes\n",
    "import elasticsearch\n",
    "\n",
    "es_address='192.168.1.100:9200'\n",
    "conn = pyes.es.ES(es_address)\n",
    "bq = pyes.query.BoolQuery()\n",
    "\n",
    "tq = pyes.query.TermQuery(field='text', value='cve')\n",
    "\n",
    "ESR = pyes.ESRange(field='created_at', from_value='Wed Jan 01 00:00:00 +0000 2014', to_value='Wed Dec 31 23:59:59 +0000 2014', \n",
    "                   include_lower=True, include_upper=False)\n",
    "rq = pyes.query.RangeQuery(qrange=ESR)\n",
    "\n",
    "bq.add_must(tq)\n",
    "bq.add_must(rq)\n",
    "\n",
    "result = conn.search(query=bq, indices='twitter2', doc_types='tweet') \n",
    "print len(result)"
   ]
  },
  {
   "cell_type": "markdown",
   "metadata": {},
   "source": [
    "## (a) Twitter count"
   ]
  },
  {
   "cell_type": "code",
   "execution_count": 2,
   "metadata": {
    "collapsed": false,
    "scrolled": true
   },
   "outputs": [
    {
     "name": "stdout",
     "output_type": "stream",
     "text": [
      "47\n"
     ]
    }
   ],
   "source": [
    "import json\n",
    "\n",
    "conn = pyes.es.ES('192.168.1.100:9200')\n",
    "bq = pyes.query.BoolQuery()\n",
    "\n",
    "tq = pyes.query.TermQuery(field='text', value='cve') # use keyword 'cve'\n",
    "ESR = pyes.ESRange(field='created_at', from_value='Wed Jan 01 00:00:00 +0000 2014', to_value='Wed Dec 31 23:59:59 +0000 2014', \n",
    "                   include_lower=True, include_upper=False) # use whole data in 2014\n",
    "rq = pyes.query.RangeQuery(qrange=ESR)\n",
    "\n",
    "bq.add_must(tq)\n",
    "bq.add_must(rq)\n",
    "\n",
    "tagg = pyes.aggs.TermsAgg('user-tweets', field='uid') # tweet count for each user\n",
    "\n",
    "qsearch = pyes.query.Search(bq) \n",
    "qsearch.agg.add(tagg) \n",
    "\n",
    "rs = conn.search(query=qsearch, index='twitter2', type=\"tweet\")\n",
    "twitters_count = len(rs.aggs['user-tweets']['buckets'])\n",
    "print twitters_count\n",
    "#print json.dumps(rs.aggs, indent=2)"
   ]
  },
  {
   "cell_type": "markdown",
   "metadata": {},
   "source": [
    "## (b) Tweet count & data of c-f"
   ]
  },
  {
   "cell_type": "code",
   "execution_count": 3,
   "metadata": {
    "collapsed": false,
    "scrolled": false
   },
   "outputs": [
    {
     "name": "stdout",
     "output_type": "stream",
     "text": [
      "[220, 45]\n",
      "265 [5, 17, 19, 21, 17, 15, 10, 12, 55, 56, 27, 11]\n",
      "47 [3, 10, 10, 13, 10, 11, 6, 8, 28, 27, 10, 6]\n",
      "[[2, 2, 1], [4, 3, 2, 2, 1, 1, 1, 1, 1, 1], [7, 3, 2, 1, 1, 1, 1, 1, 1, 1], [4, 3, 2, 2, 2, 1, 1, 1, 1, 1, 1, 1, 1], [3, 3, 2, 2, 2, 1, 1, 1, 1, 1], [4, 2, 1, 1, 1, 1, 1, 1, 1, 1, 1], [3, 2, 2, 1, 1, 1], [3, 2, 2, 1, 1, 1, 1, 1], [6, 5, 5, 4, 3, 3, 2, 2, 2, 2, 2, 2, 2, 1, 1, 1, 1, 1, 1, 1, 1, 1, 1, 1, 1, 1, 1, 1], [10, 9, 6, 4, 3, 2, 2, 1, 1, 1, 1, 1, 1, 1, 1, 1, 1, 1, 1, 1, 1, 1, 1, 1, 1, 1, 1], [8, 5, 4, 3, 2, 1, 1, 1, 1, 1], [4, 2, 2, 1, 1, 1]]\n"
     ]
    }
   ],
   "source": [
    "import pyes\n",
    "import json\n",
    "\n",
    "conn=pyes.es.ES('192.168.1.100:9200')\n",
    "\n",
    "bq = pyes.query.BoolQuery()\n",
    "\n",
    "tq = pyes.query.TermQuery(field='text', value='cve') # use keyword 'cve'\n",
    "ESR = pyes.ESRange(field='created_at', from_value='Wed Jan 01 00:00:00 +0000 2014', to_value='Wed Dec 31 23:59:59 +0000 2014', \n",
    "                   include_lower=True, include_upper=False) # use whole data in 2014\n",
    "rq = pyes.query.RangeQuery(qrange=ESR)\n",
    "\n",
    "bq.add_must(tq)\n",
    "bq.add_must(rq)\n",
    "\n",
    "# for each month, tweet count of all users\n",
    "tagg = pyes.aggs.DateHistogramAgg('month', field='created_at', interval='month', sub_aggs=[])\n",
    "tagg1 = pyes.aggs.TermsAgg('user-tweet', field='uid')\n",
    "tagg.sub_aggs.append(tagg1)\n",
    "\n",
    "qsearch = pyes.query.Search(bq)\n",
    "qsearch.agg.add(tagg)\n",
    "\n",
    "rs = conn.search(query=qsearch, indices='twitter2', type=\"tweet\")\n",
    "rs_url = conn.search(query=bq, indices='twitter2', type=\"tweet\")\n",
    "\n",
    "\n",
    "res_list = rs.aggs['month']['buckets']\n",
    "res_url_list = [rs_url[t]['entities']['urls'] for t in range(len(rs_url))]\n",
    "\n",
    "# e\n",
    "url_count = len([url for url in res_url_list if url != []])\n",
    "url_to_nourl = [url_count, len(res_url_list) - url_count]\n",
    "\n",
    "twitters_month = [len(res_list[m]['user-tweet']['buckets']) for m in range(12)] # c\n",
    "tweets_month = [res_list[m]['doc_count'] for m in range(12)] # d\n",
    "tweets_count = sum(tweets_month) # b\n",
    "\n",
    "# f\n",
    "twitter_tweet_month = [[res_list[m]['user-tweet']['buckets'][n]['doc_count'] for n in range(twitters_month[m])] for m in range(12)] # Q2-f\n",
    "\n",
    "print url_to_nourl\n",
    "print tweets_count, tweets_month\n",
    "print twitters_count, twitters_month\n",
    "print twitter_tweet_month"
   ]
  },
  {
   "cell_type": "markdown",
   "metadata": {},
   "source": [
    "# Visualization: use Bokeh"
   ]
  },
  {
   "cell_type": "code",
   "execution_count": 4,
   "metadata": {
    "collapsed": false
   },
   "outputs": [
    {
     "data": {
      "text/html": [
       "\n",
       "    <div class=\"bk-root\">\n",
       "        <a href=\"http://bokeh.pydata.org\" target=\"_blank\" class=\"bk-logo bk-logo-small bk-logo-notebook\"></a>\n",
       "        <span id=\"bfa75b98-0c90-489d-baeb-e8b555b2d060\">Loading BokehJS ...</span>\n",
       "    </div>"
      ]
     },
     "metadata": {},
     "output_type": "display_data"
    },
    {
     "data": {
      "application/javascript": [
       "\n",
       "(function(global) {\n",
       "  function now() {\n",
       "    return new Date();\n",
       "  }\n",
       "\n",
       "  if (typeof (window._bokeh_onload_callbacks) === \"undefined\") {\n",
       "    window._bokeh_onload_callbacks = [];\n",
       "  }\n",
       "\n",
       "  function run_callbacks() {\n",
       "    window._bokeh_onload_callbacks.forEach(function(callback) { callback() });\n",
       "    delete window._bokeh_onload_callbacks\n",
       "    console.info(\"Bokeh: all callbacks have finished\");\n",
       "  }\n",
       "\n",
       "  function load_libs(js_urls, callback) {\n",
       "    window._bokeh_onload_callbacks.push(callback);\n",
       "    if (window._bokeh_is_loading > 0) {\n",
       "      console.log(\"Bokeh: BokehJS is being loaded, scheduling callback at\", now());\n",
       "      return null;\n",
       "    }\n",
       "    if (js_urls == null || js_urls.length === 0) {\n",
       "      run_callbacks();\n",
       "      return null;\n",
       "    }\n",
       "    console.log(\"Bokeh: BokehJS not loaded, scheduling load and callback at\", now());\n",
       "    window._bokeh_is_loading = js_urls.length;\n",
       "    for (var i = 0; i < js_urls.length; i++) {\n",
       "      var url = js_urls[i];\n",
       "      var s = document.createElement('script');\n",
       "      s.src = url;\n",
       "      s.async = false;\n",
       "      s.onreadystatechange = s.onload = function() {\n",
       "        window._bokeh_is_loading--;\n",
       "        if (window._bokeh_is_loading === 0) {\n",
       "          console.log(\"Bokeh: all BokehJS libraries loaded\");\n",
       "          run_callbacks()\n",
       "        }\n",
       "      };\n",
       "      s.onerror = function() {\n",
       "        console.warn(\"failed to load library \" + url);\n",
       "      };\n",
       "      console.log(\"Bokeh: injecting script tag for BokehJS library: \", url);\n",
       "      document.getElementsByTagName(\"head\")[0].appendChild(s);\n",
       "    }\n",
       "  };\n",
       "\n",
       "  var js_urls = ['https://cdn.pydata.org/bokeh/release/bokeh-0.12.0.min.js', 'https://cdn.pydata.org/bokeh/release/bokeh-widgets-0.12.0.min.js', 'https://cdn.pydata.org/bokeh/release/bokeh-compiler-0.12.0.min.js'];\n",
       "\n",
       "  var inline_js = [\n",
       "    function(Bokeh) {\n",
       "      Bokeh.set_log_level(\"info\");\n",
       "    },\n",
       "    \n",
       "    function(Bokeh) {\n",
       "      Bokeh.$(\"#bfa75b98-0c90-489d-baeb-e8b555b2d060\").text(\"BokehJS successfully loaded\");\n",
       "    },\n",
       "    function(Bokeh) {\n",
       "      console.log(\"Bokeh: injecting CSS: https://cdn.pydata.org/bokeh/release/bokeh-0.12.0.min.css\");\n",
       "      Bokeh.embed.inject_css(\"https://cdn.pydata.org/bokeh/release/bokeh-0.12.0.min.css\");\n",
       "      console.log(\"Bokeh: injecting CSS: https://cdn.pydata.org/bokeh/release/bokeh-widgets-0.12.0.min.css\");\n",
       "      Bokeh.embed.inject_css(\"https://cdn.pydata.org/bokeh/release/bokeh-widgets-0.12.0.min.css\");\n",
       "    }\n",
       "  ];\n",
       "\n",
       "  function run_inline_js() {\n",
       "    for (var i = 0; i < inline_js.length; i++) {\n",
       "      inline_js[i](window.Bokeh);\n",
       "    }\n",
       "  }\n",
       "\n",
       "  if (window._bokeh_is_loading === 0) {\n",
       "    console.log(\"Bokeh: BokehJS loaded, going straight to plotting\");\n",
       "    run_inline_js();\n",
       "  } else {\n",
       "    load_libs(js_urls, function() {\n",
       "      console.log(\"Bokeh: BokehJS plotting callback run at\", now());\n",
       "      run_inline_js();\n",
       "    });\n",
       "  }\n",
       "}(this));"
      ]
     },
     "metadata": {},
     "output_type": "display_data"
    }
   ],
   "source": [
    "from bokeh.io import push_notebook, show, output_notebook\n",
    "from bokeh.layouts import row\n",
    "from bokeh.plotting import figure\n",
    "output_notebook()"
   ]
  },
  {
   "cell_type": "markdown",
   "metadata": {},
   "source": [
    "## (c) & (d) Bar chart of twitter and tweet count in month"
   ]
  },
  {
   "cell_type": "code",
   "execution_count": 5,
   "metadata": {
    "collapsed": false
   },
   "outputs": [
    {
     "data": {
      "text/html": [
       "\n",
       "\n",
       "    <div class=\"bk-root\">\n",
       "        <div class=\"plotdiv\" id=\"4e23fecb-c7c7-4ba3-8dfe-ad294488956a\"></div>\n",
       "    </div>\n",
       "<script type=\"text/javascript\">\n",
       "  \n",
       "  (function(global) {\n",
       "    function now() {\n",
       "      return new Date();\n",
       "    }\n",
       "  \n",
       "    if (typeof (window._bokeh_onload_callbacks) === \"undefined\") {\n",
       "      window._bokeh_onload_callbacks = [];\n",
       "    }\n",
       "  \n",
       "    function run_callbacks() {\n",
       "      window._bokeh_onload_callbacks.forEach(function(callback) { callback() });\n",
       "      delete window._bokeh_onload_callbacks\n",
       "      console.info(\"Bokeh: all callbacks have finished\");\n",
       "    }\n",
       "  \n",
       "    function load_libs(js_urls, callback) {\n",
       "      window._bokeh_onload_callbacks.push(callback);\n",
       "      if (window._bokeh_is_loading > 0) {\n",
       "        console.log(\"Bokeh: BokehJS is being loaded, scheduling callback at\", now());\n",
       "        return null;\n",
       "      }\n",
       "      if (js_urls == null || js_urls.length === 0) {\n",
       "        run_callbacks();\n",
       "        return null;\n",
       "      }\n",
       "      console.log(\"Bokeh: BokehJS not loaded, scheduling load and callback at\", now());\n",
       "      window._bokeh_is_loading = js_urls.length;\n",
       "      for (var i = 0; i < js_urls.length; i++) {\n",
       "        var url = js_urls[i];\n",
       "        var s = document.createElement('script');\n",
       "        s.src = url;\n",
       "        s.async = false;\n",
       "        s.onreadystatechange = s.onload = function() {\n",
       "          window._bokeh_is_loading--;\n",
       "          if (window._bokeh_is_loading === 0) {\n",
       "            console.log(\"Bokeh: all BokehJS libraries loaded\");\n",
       "            run_callbacks()\n",
       "          }\n",
       "        };\n",
       "        s.onerror = function() {\n",
       "          console.warn(\"failed to load library \" + url);\n",
       "        };\n",
       "        console.log(\"Bokeh: injecting script tag for BokehJS library: \", url);\n",
       "        document.getElementsByTagName(\"head\")[0].appendChild(s);\n",
       "      }\n",
       "    };var element = document.getElementById(\"4e23fecb-c7c7-4ba3-8dfe-ad294488956a\");\n",
       "    if (element == null) {\n",
       "      console.log(\"Bokeh: ERROR: autoload.js configured with elementid '4e23fecb-c7c7-4ba3-8dfe-ad294488956a' but no matching script tag was found. \")\n",
       "      return false;\n",
       "    }\n",
       "  \n",
       "    var js_urls = [];\n",
       "  \n",
       "    var inline_js = [\n",
       "      function(Bokeh) {\n",
       "        Bokeh.$(function() {\n",
       "            var docs_json = {\"cf19a03f-5e11-4239-99ad-f8c6811e0f9a\":{\"roots\":{\"references\":[{\"attributes\":{\"below\":[{\"id\":\"a579cfbc-237e-4a06-8250-47f93eb197d0\",\"type\":\"CategoricalAxis\"}],\"left\":[{\"id\":\"2b19825d-1755-4a6e-98bb-98ade81f9fcb\",\"type\":\"LinearAxis\"}],\"plot_height\":450,\"plot_width\":450,\"renderers\":[{\"id\":\"f56b5a91-dd9e-4462-b591-2a4dff58de95\",\"type\":\"BoxAnnotation\"},{\"id\":\"d0d53fe4-1a13-4843-91aa-2e20c57e36ce\",\"type\":\"GlyphRenderer\"},{\"id\":\"2e97eb3b-0d1b-465d-a351-5e33a7c07d5c\",\"type\":\"GlyphRenderer\"},{\"id\":\"83637c82-1c55-460b-83f7-f12993d0f1e5\",\"type\":\"GlyphRenderer\"},{\"id\":\"dcf80402-3a06-4b98-9d92-d8540737d3b8\",\"type\":\"GlyphRenderer\"},{\"id\":\"aae6eb0e-d325-45c0-929b-248db7b793b3\",\"type\":\"GlyphRenderer\"},{\"id\":\"4d974faf-d6dd-49f7-9c52-6bc742ba98f6\",\"type\":\"GlyphRenderer\"},{\"id\":\"b58b813e-ec3c-4064-a48d-2dbfb0f4df97\",\"type\":\"GlyphRenderer\"},{\"id\":\"7c7d8e84-8a88-43c4-8f10-ab738e3cebce\",\"type\":\"GlyphRenderer\"},{\"id\":\"dbaff91b-f495-4436-b90a-08a96a31310a\",\"type\":\"GlyphRenderer\"},{\"id\":\"bb81aa7a-49eb-49f4-8ee1-dbca3be87dd7\",\"type\":\"GlyphRenderer\"},{\"id\":\"d81131de-db4d-4dde-b2e5-10156d352e8d\",\"type\":\"GlyphRenderer\"},{\"id\":\"e406f21c-ce71-4315-b510-d3589c6de5c6\",\"type\":\"GlyphRenderer\"},{\"id\":\"a579cfbc-237e-4a06-8250-47f93eb197d0\",\"type\":\"CategoricalAxis\"},{\"id\":\"2b19825d-1755-4a6e-98bb-98ade81f9fcb\",\"type\":\"LinearAxis\"},{\"id\":\"49585751-3a1d-4295-a2c9-29266ec862d7\",\"type\":\"Grid\"}],\"title\":{\"id\":\"cc75598a-2974-4b43-9225-53a48ec73abf\",\"type\":\"Title\"},\"tool_events\":{\"id\":\"3d3ecd63-3bf1-4466-a298-c288e4d562ae\",\"type\":\"ToolEvents\"},\"toolbar\":{\"id\":\"76141b1d-331e-4a5b-afd2-9509452c2eb7\",\"type\":\"Toolbar\"},\"x_mapper_type\":\"auto\",\"x_range\":{\"id\":\"fb38020a-cb7c-475e-b1d3-0154d35669e9\",\"type\":\"FactorRange\"},\"y_mapper_type\":\"auto\",\"y_range\":{\"id\":\"3e0185a5-10ef-481a-99b2-e77f234bc24c\",\"type\":\"Range1d\"}},\"id\":\"c9262376-6216-4857-b02c-66dfdb05aeae\",\"subtype\":\"Chart\",\"type\":\"Plot\"},{\"attributes\":{\"plot\":{\"id\":\"0151aeae-29aa-45a4-b0e3-df15611cf41e\",\"subtype\":\"Chart\",\"type\":\"Plot\"}},\"id\":\"aa05f528-577b-43a8-b1c7-e2c74fde50e6\",\"type\":\"SaveTool\"},{\"attributes\":{\"data_source\":{\"id\":\"8ba85a27-3bdd-4912-b90a-f928902f1593\",\"type\":\"ColumnDataSource\"},\"glyph\":{\"id\":\"e61ff9b0-6cc2-45a0-9442-1bf252d9e111\",\"type\":\"Rect\"},\"hover_glyph\":null,\"nonselection_glyph\":null,\"selection_glyph\":null},\"id\":\"4d974faf-d6dd-49f7-9c52-6bc742ba98f6\",\"type\":\"GlyphRenderer\"},{\"attributes\":{\"fill_alpha\":{\"field\":\"fill_alpha\"},\"fill_color\":{\"field\":\"color\"},\"height\":{\"field\":\"height\",\"units\":\"data\"},\"line_color\":{\"field\":\"line_color\"},\"width\":{\"field\":\"width\",\"units\":\"data\"},\"x\":{\"field\":\"x\"},\"y\":{\"field\":\"y\"}},\"id\":\"850cc2dd-a515-4f7c-967c-5a660c6b3dd1\",\"type\":\"Rect\"},{\"attributes\":{},\"id\":\"f00a336e-19d6-4584-9e86-738f06ebb4d7\",\"type\":\"CategoricalTickFormatter\"},{\"attributes\":{\"data_source\":{\"id\":\"69cfb0d0-0bb0-4050-84a9-7d80ecfe4cae\",\"type\":\"ColumnDataSource\"},\"glyph\":{\"id\":\"f77eda65-113a-4e4a-8877-b88ada33390a\",\"type\":\"Rect\"},\"hover_glyph\":null,\"nonselection_glyph\":null,\"selection_glyph\":null},\"id\":\"b58b813e-ec3c-4064-a48d-2dbfb0f4df97\",\"type\":\"GlyphRenderer\"},{\"attributes\":{\"data_source\":{\"id\":\"2a333aa3-0191-4097-a095-0b4108381ae4\",\"type\":\"ColumnDataSource\"},\"glyph\":{\"id\":\"105c0ab4-484f-423c-b947-502ad20eef8b\",\"type\":\"Rect\"},\"hover_glyph\":null,\"nonselection_glyph\":null,\"selection_glyph\":null},\"id\":\"5e08d807-9c43-457b-b19f-82aba314375d\",\"type\":\"GlyphRenderer\"},{\"attributes\":{\"data_source\":{\"id\":\"a7fcf503-b5a9-4b61-8aa9-4953863eb54c\",\"type\":\"ColumnDataSource\"},\"glyph\":{\"id\":\"3eb0eadb-9a83-4259-b56a-23f1aa7c23b9\",\"type\":\"Rect\"},\"hover_glyph\":null,\"nonselection_glyph\":null,\"selection_glyph\":null},\"id\":\"9ae4532d-783d-43a5-ab44-72e8ec998e41\",\"type\":\"GlyphRenderer\"},{\"attributes\":{\"fill_alpha\":{\"field\":\"fill_alpha\"},\"fill_color\":{\"field\":\"color\"},\"height\":{\"field\":\"height\",\"units\":\"data\"},\"line_color\":{\"field\":\"line_color\"},\"width\":{\"field\":\"width\",\"units\":\"data\"},\"x\":{\"field\":\"x\"},\"y\":{\"field\":\"y\"}},\"id\":\"3eb0eadb-9a83-4259-b56a-23f1aa7c23b9\",\"type\":\"Rect\"},{\"attributes\":{\"fill_alpha\":{\"field\":\"fill_alpha\"},\"fill_color\":{\"field\":\"color\"},\"height\":{\"field\":\"height\",\"units\":\"data\"},\"line_color\":{\"field\":\"line_color\"},\"width\":{\"field\":\"width\",\"units\":\"data\"},\"x\":{\"field\":\"x\"},\"y\":{\"field\":\"y\"}},\"id\":\"e61ff9b0-6cc2-45a0-9442-1bf252d9e111\",\"type\":\"Rect\"},{\"attributes\":{\"data_source\":{\"id\":\"5fe48722-2120-4968-9fa2-88d92ce8e773\",\"type\":\"ColumnDataSource\"},\"glyph\":{\"id\":\"7b75b93e-6a49-4f51-8630-640d8b62469f\",\"type\":\"Rect\"},\"hover_glyph\":null,\"nonselection_glyph\":null,\"selection_glyph\":null},\"id\":\"bb81aa7a-49eb-49f4-8ee1-dbca3be87dd7\",\"type\":\"GlyphRenderer\"},{\"attributes\":{\"plot\":{\"id\":\"c9262376-6216-4857-b02c-66dfdb05aeae\",\"subtype\":\"Chart\",\"type\":\"Plot\"}},\"id\":\"20fc3091-2e51-4658-af09-5c00f84be3f2\",\"type\":\"SaveTool\"},{\"attributes\":{},\"id\":\"3d3ecd63-3bf1-4466-a298-c288e4d562ae\",\"type\":\"ToolEvents\"},{\"attributes\":{\"callback\":null,\"column_names\":[\"line_color\",\"line_alpha\",\"color\",\"fill_alpha\",\"height\",\"width\",\"y\",\"x\",\"label\"],\"data\":{\"chart_index\":[{\"label\":\"Nov\"}],\"color\":[\"#f22c40\"],\"fill_alpha\":[0.8],\"height\":[10.0],\"label\":[\"Nov\"],\"line_alpha\":[1.0],\"line_color\":[\"white\"],\"width\":[0.8],\"x\":[\"Nov\"],\"y\":[5.0]}},\"id\":\"0d2d1015-7c70-44c4-92c9-f17491c3b188\",\"type\":\"ColumnDataSource\"},{\"attributes\":{\"data_source\":{\"id\":\"c9ec2c73-7a03-475c-9824-3b7365386035\",\"type\":\"ColumnDataSource\"},\"glyph\":{\"id\":\"850cc2dd-a515-4f7c-967c-5a660c6b3dd1\",\"type\":\"Rect\"},\"hover_glyph\":null,\"nonselection_glyph\":null,\"selection_glyph\":null},\"id\":\"2cfca998-5c10-46ab-8dd7-93dfaa20f7c0\",\"type\":\"GlyphRenderer\"},{\"attributes\":{\"fill_alpha\":{\"field\":\"fill_alpha\"},\"fill_color\":{\"field\":\"color\"},\"height\":{\"field\":\"height\",\"units\":\"data\"},\"line_color\":{\"field\":\"line_color\"},\"width\":{\"field\":\"width\",\"units\":\"data\"},\"x\":{\"field\":\"x\"},\"y\":{\"field\":\"y\"}},\"id\":\"7488b159-26bb-4aa1-8450-1bc2fe88c14d\",\"type\":\"Rect\"},{\"attributes\":{\"data_source\":{\"id\":\"d3417461-cd18-4e36-bb25-80200230e482\",\"type\":\"ColumnDataSource\"},\"glyph\":{\"id\":\"2dacf986-46fc-43ca-9b90-bd1870e2a630\",\"type\":\"Rect\"},\"hover_glyph\":null,\"nonselection_glyph\":null,\"selection_glyph\":null},\"id\":\"e59acf94-0db9-4a4d-89a9-7af9120a0a40\",\"type\":\"GlyphRenderer\"},{\"attributes\":{},\"id\":\"806843e0-8be2-47d0-b2e3-477b0039d568\",\"type\":\"ToolEvents\"},{\"attributes\":{\"dimension\":1,\"plot\":{\"id\":\"c9262376-6216-4857-b02c-66dfdb05aeae\",\"subtype\":\"Chart\",\"type\":\"Plot\"},\"ticker\":{\"id\":\"c57550a0-c9d1-41b3-8160-d4636a1f1672\",\"type\":\"BasicTicker\"}},\"id\":\"49585751-3a1d-4295-a2c9-29266ec862d7\",\"type\":\"Grid\"},{\"attributes\":{\"callback\":null,\"column_names\":[\"line_color\",\"line_alpha\",\"color\",\"fill_alpha\",\"height\",\"width\",\"y\",\"x\",\"label\"],\"data\":{\"chart_index\":[{\"label\":\"Oct\"}],\"color\":[\"#f22c40\"],\"fill_alpha\":[0.8],\"height\":[56.0],\"label\":[\"Oct\"],\"line_alpha\":[1.0],\"line_color\":[\"white\"],\"width\":[0.8],\"x\":[\"Oct\"],\"y\":[28.0]}},\"id\":\"5fe48722-2120-4968-9fa2-88d92ce8e773\",\"type\":\"ColumnDataSource\"},{\"attributes\":{\"plot\":null,\"text\":\"Twitters count\"},\"id\":\"7c00e09c-6347-4478-b3d9-96fdb4cc9a29\",\"type\":\"Title\"},{\"attributes\":{\"callback\":null,\"column_names\":[\"line_color\",\"line_alpha\",\"color\",\"fill_alpha\",\"height\",\"width\",\"y\",\"x\",\"label\"],\"data\":{\"chart_index\":[{\"label\":\"Dec\"}],\"color\":[\"#f22c40\"],\"fill_alpha\":[0.8],\"height\":[11.0],\"label\":[\"Dec\"],\"line_alpha\":[1.0],\"line_color\":[\"white\"],\"width\":[0.8],\"x\":[\"Dec\"],\"y\":[5.5]}},\"id\":\"9ce89967-8c9a-49d1-98d9-99766de785dc\",\"type\":\"ColumnDataSource\"},{\"attributes\":{\"callback\":null,\"column_names\":[\"line_color\",\"line_alpha\",\"color\",\"fill_alpha\",\"height\",\"width\",\"y\",\"x\",\"label\"],\"data\":{\"chart_index\":[{\"label\":\"Sep\"}],\"color\":[\"#f22c40\"],\"fill_alpha\":[0.8],\"height\":[55.0],\"label\":[\"Sep\"],\"line_alpha\":[1.0],\"line_color\":[\"white\"],\"width\":[0.8],\"x\":[\"Sep\"],\"y\":[27.5]}},\"id\":\"daa1a068-e6ae-41b5-99f9-7bd7dd3831de\",\"type\":\"ColumnDataSource\"},{\"attributes\":{\"plot\":{\"id\":\"c9262376-6216-4857-b02c-66dfdb05aeae\",\"subtype\":\"Chart\",\"type\":\"Plot\"}},\"id\":\"ceb23a8d-d811-4e6b-8e44-d24a9a2ef781\",\"type\":\"HelpTool\"},{\"attributes\":{\"data_source\":{\"id\":\"0b42cd22-0283-49b2-b3b3-ec735fad06c7\",\"type\":\"ColumnDataSource\"},\"glyph\":{\"id\":\"fe35b6aa-24bf-4ad7-a8bb-b6e35fb9422c\",\"type\":\"Rect\"},\"hover_glyph\":null,\"nonselection_glyph\":null,\"selection_glyph\":null},\"id\":\"56c86dc2-2bab-4acc-a0da-01d8a002fb55\",\"type\":\"GlyphRenderer\"},{\"attributes\":{\"data_source\":{\"id\":\"daa1a068-e6ae-41b5-99f9-7bd7dd3831de\",\"type\":\"ColumnDataSource\"},\"glyph\":{\"id\":\"b0999cc0-35d9-4050-a1ab-70b1e8eef593\",\"type\":\"Rect\"},\"hover_glyph\":null,\"nonselection_glyph\":null,\"selection_glyph\":null},\"id\":\"dbaff91b-f495-4436-b90a-08a96a31310a\",\"type\":\"GlyphRenderer\"},{\"attributes\":{},\"id\":\"6e0226ae-5ac6-480d-9b0d-36249e0b18da\",\"type\":\"CategoricalTicker\"},{\"attributes\":{\"active_drag\":\"auto\",\"active_scroll\":\"auto\",\"active_tap\":\"auto\",\"tools\":[{\"id\":\"b775eb4c-baff-4413-be28-9dc04d7f1871\",\"type\":\"PanTool\"},{\"id\":\"db8dba19-f6c1-41eb-868f-0eacf81ea27c\",\"type\":\"WheelZoomTool\"},{\"id\":\"5791a98c-ee94-4b45-b1f3-3c2b2edc702a\",\"type\":\"BoxZoomTool\"},{\"id\":\"20fc3091-2e51-4658-af09-5c00f84be3f2\",\"type\":\"SaveTool\"},{\"id\":\"f9caaca4-54db-422d-8d47-4881bf10ea85\",\"type\":\"ResetTool\"},{\"id\":\"ceb23a8d-d811-4e6b-8e44-d24a9a2ef781\",\"type\":\"HelpTool\"}]},\"id\":\"76141b1d-331e-4a5b-afd2-9509452c2eb7\",\"type\":\"Toolbar\"},{\"attributes\":{\"data_source\":{\"id\":\"6b47c8b3-1cae-4498-b69b-d35619490031\",\"type\":\"ColumnDataSource\"},\"glyph\":{\"id\":\"70a87c41-d2cf-413d-a7a8-02f260bc8d8a\",\"type\":\"Rect\"},\"hover_glyph\":null,\"nonselection_glyph\":null,\"selection_glyph\":null},\"id\":\"b6eeae54-41fa-4f5b-892e-e6d68ba8fa5a\",\"type\":\"GlyphRenderer\"},{\"attributes\":{\"fill_alpha\":{\"field\":\"fill_alpha\"},\"fill_color\":{\"field\":\"color\"},\"height\":{\"field\":\"height\",\"units\":\"data\"},\"line_color\":{\"field\":\"line_color\"},\"width\":{\"field\":\"width\",\"units\":\"data\"},\"x\":{\"field\":\"x\"},\"y\":{\"field\":\"y\"}},\"id\":\"10b045b6-12fd-40dc-a7e5-e582e5a7ac45\",\"type\":\"Rect\"},{\"attributes\":{\"plot\":{\"id\":\"c9262376-6216-4857-b02c-66dfdb05aeae\",\"subtype\":\"Chart\",\"type\":\"Plot\"}},\"id\":\"db8dba19-f6c1-41eb-868f-0eacf81ea27c\",\"type\":\"WheelZoomTool\"},{\"attributes\":{\"data_source\":{\"id\":\"7cf762eb-eda0-4ad3-a482-78dd6423b53b\",\"type\":\"ColumnDataSource\"},\"glyph\":{\"id\":\"641e51bf-08ac-4069-a70a-a05f1a59fc9b\",\"type\":\"Rect\"},\"hover_glyph\":null,\"nonselection_glyph\":null,\"selection_glyph\":null},\"id\":\"aae6eb0e-d325-45c0-929b-248db7b793b3\",\"type\":\"GlyphRenderer\"},{\"attributes\":{\"fill_alpha\":{\"field\":\"fill_alpha\"},\"fill_color\":{\"field\":\"color\"},\"height\":{\"field\":\"height\",\"units\":\"data\"},\"line_color\":{\"field\":\"line_color\"},\"width\":{\"field\":\"width\",\"units\":\"data\"},\"x\":{\"field\":\"x\"},\"y\":{\"field\":\"y\"}},\"id\":\"5af80771-53da-447d-9819-37c0483d93eb\",\"type\":\"Rect\"},{\"attributes\":{\"axis_label\":\"tweets\",\"formatter\":{\"id\":\"e2eeac50-dd56-4dc7-a1b5-2568a74818ba\",\"type\":\"BasicTickFormatter\"},\"plot\":{\"id\":\"c9262376-6216-4857-b02c-66dfdb05aeae\",\"subtype\":\"Chart\",\"type\":\"Plot\"},\"ticker\":{\"id\":\"c57550a0-c9d1-41b3-8160-d4636a1f1672\",\"type\":\"BasicTicker\"}},\"id\":\"2b19825d-1755-4a6e-98bb-98ade81f9fcb\",\"type\":\"LinearAxis\"},{\"attributes\":{\"axis_label\":\"twitters\",\"formatter\":{\"id\":\"f39a9be7-548a-49d2-87a4-bbd0106d6d94\",\"type\":\"BasicTickFormatter\"},\"plot\":{\"id\":\"0151aeae-29aa-45a4-b0e3-df15611cf41e\",\"subtype\":\"Chart\",\"type\":\"Plot\"},\"ticker\":{\"id\":\"3227d8f4-b066-43e8-9378-a99177cbe564\",\"type\":\"BasicTicker\"}},\"id\":\"3a7b2e62-cbad-4c8d-ba0c-51d9ff123bec\",\"type\":\"LinearAxis\"},{\"attributes\":{\"callback\":null,\"column_names\":[\"line_color\",\"line_alpha\",\"color\",\"fill_alpha\",\"height\",\"width\",\"y\",\"x\",\"label\"],\"data\":{\"chart_index\":[{\"label\":\"Feb\"}],\"color\":[\"#f22c40\"],\"fill_alpha\":[0.8],\"height\":[10.0],\"label\":[\"Feb\"],\"line_alpha\":[1.0],\"line_color\":[\"white\"],\"width\":[0.8],\"x\":[\"Feb\"],\"y\":[5.0]}},\"id\":\"58a7ba52-aae2-45dd-9f1f-762ebcfc0002\",\"type\":\"ColumnDataSource\"},{\"attributes\":{\"data_source\":{\"id\":\"05203ba1-9224-44fd-b15c-862b7fac8ba4\",\"type\":\"ColumnDataSource\"},\"glyph\":{\"id\":\"2fed12ed-e047-411d-a554-92c9e6442f49\",\"type\":\"Rect\"},\"hover_glyph\":null,\"nonselection_glyph\":null,\"selection_glyph\":null},\"id\":\"69f96683-7886-4b4f-b6fa-73748721a94d\",\"type\":\"GlyphRenderer\"},{\"attributes\":{\"fill_alpha\":{\"field\":\"fill_alpha\"},\"fill_color\":{\"field\":\"color\"},\"height\":{\"field\":\"height\",\"units\":\"data\"},\"line_color\":{\"field\":\"line_color\"},\"width\":{\"field\":\"width\",\"units\":\"data\"},\"x\":{\"field\":\"x\"},\"y\":{\"field\":\"y\"}},\"id\":\"66bc91cb-0d57-4322-a495-8735e6268452\",\"type\":\"Rect\"},{\"attributes\":{\"fill_alpha\":{\"field\":\"fill_alpha\"},\"fill_color\":{\"field\":\"color\"},\"height\":{\"field\":\"height\",\"units\":\"data\"},\"line_color\":{\"field\":\"line_color\"},\"width\":{\"field\":\"width\",\"units\":\"data\"},\"x\":{\"field\":\"x\"},\"y\":{\"field\":\"y\"}},\"id\":\"641e51bf-08ac-4069-a70a-a05f1a59fc9b\",\"type\":\"Rect\"},{\"attributes\":{\"fill_alpha\":{\"field\":\"fill_alpha\"},\"fill_color\":{\"field\":\"color\"},\"height\":{\"field\":\"height\",\"units\":\"data\"},\"line_color\":{\"field\":\"line_color\"},\"width\":{\"field\":\"width\",\"units\":\"data\"},\"x\":{\"field\":\"x\"},\"y\":{\"field\":\"y\"}},\"id\":\"fe35b6aa-24bf-4ad7-a8bb-b6e35fb9422c\",\"type\":\"Rect\"},{\"attributes\":{\"callback\":null,\"column_names\":[\"line_color\",\"line_alpha\",\"color\",\"fill_alpha\",\"height\",\"width\",\"y\",\"x\",\"label\"],\"data\":{\"chart_index\":[{\"label\":\"Jan\"}],\"color\":[\"#f22c40\"],\"fill_alpha\":[0.8],\"height\":[5.0],\"label\":[\"Jan\"],\"line_alpha\":[1.0],\"line_color\":[\"white\"],\"width\":[0.8],\"x\":[\"Jan\"],\"y\":[2.5]}},\"id\":\"8b992414-6809-41e2-8cc9-f5e06deeffd6\",\"type\":\"ColumnDataSource\"},{\"attributes\":{\"callback\":null,\"column_names\":[\"line_color\",\"line_alpha\",\"color\",\"fill_alpha\",\"height\",\"width\",\"y\",\"x\",\"label\"],\"data\":{\"chart_index\":[{\"label\":\"Nov\"}],\"color\":[\"#f22c40\"],\"fill_alpha\":[0.8],\"height\":[27.0],\"label\":[\"Nov\"],\"line_alpha\":[1.0],\"line_color\":[\"white\"],\"width\":[0.8],\"x\":[\"Nov\"],\"y\":[13.5]}},\"id\":\"e5b1b359-d9e6-4a82-8bbe-34e5f97165d8\",\"type\":\"ColumnDataSource\"},{\"attributes\":{\"plot\":{\"id\":\"0151aeae-29aa-45a4-b0e3-df15611cf41e\",\"subtype\":\"Chart\",\"type\":\"Plot\"}},\"id\":\"a3295c18-5f1e-44da-9352-a1b0554b0520\",\"type\":\"HelpTool\"},{\"attributes\":{\"fill_alpha\":{\"field\":\"fill_alpha\"},\"fill_color\":{\"field\":\"color\"},\"height\":{\"field\":\"height\",\"units\":\"data\"},\"line_color\":{\"field\":\"line_color\"},\"width\":{\"field\":\"width\",\"units\":\"data\"},\"x\":{\"field\":\"x\"},\"y\":{\"field\":\"y\"}},\"id\":\"b0999cc0-35d9-4050-a1ab-70b1e8eef593\",\"type\":\"Rect\"},{\"attributes\":{\"callback\":null,\"column_names\":[\"line_color\",\"line_alpha\",\"color\",\"fill_alpha\",\"height\",\"width\",\"y\",\"x\",\"label\"],\"data\":{\"chart_index\":[{\"label\":\"Jan\"}],\"color\":[\"#f22c40\"],\"fill_alpha\":[0.8],\"height\":[3.0],\"label\":[\"Jan\"],\"line_alpha\":[1.0],\"line_color\":[\"white\"],\"width\":[0.8],\"x\":[\"Jan\"],\"y\":[1.5]}},\"id\":\"db81c46e-a5ce-48bf-88cd-66fdce68a7f6\",\"type\":\"ColumnDataSource\"},{\"attributes\":{\"data_source\":{\"id\":\"4043dde2-00fa-4f5e-93ee-4f0548fc68a8\",\"type\":\"ColumnDataSource\"},\"glyph\":{\"id\":\"5af80771-53da-447d-9819-37c0483d93eb\",\"type\":\"Rect\"},\"hover_glyph\":null,\"nonselection_glyph\":null,\"selection_glyph\":null},\"id\":\"2e503fb9-2973-45b7-a513-682aee485497\",\"type\":\"GlyphRenderer\"},{\"attributes\":{\"below\":[{\"id\":\"1ad92963-7d87-4444-b392-89eb2d9a9273\",\"type\":\"CategoricalAxis\"}],\"left\":[{\"id\":\"3a7b2e62-cbad-4c8d-ba0c-51d9ff123bec\",\"type\":\"LinearAxis\"}],\"plot_height\":450,\"plot_width\":450,\"renderers\":[{\"id\":\"9e57f39b-b36c-424c-9955-6f2d7741c30b\",\"type\":\"BoxAnnotation\"},{\"id\":\"af4175db-1227-4d52-a1e1-2576ff170ec3\",\"type\":\"GlyphRenderer\"},{\"id\":\"e5e347f4-e2e3-4997-8655-30fef2b97f5e\",\"type\":\"GlyphRenderer\"},{\"id\":\"9ae4532d-783d-43a5-ab44-72e8ec998e41\",\"type\":\"GlyphRenderer\"},{\"id\":\"b6eeae54-41fa-4f5b-892e-e6d68ba8fa5a\",\"type\":\"GlyphRenderer\"},{\"id\":\"56c86dc2-2bab-4acc-a0da-01d8a002fb55\",\"type\":\"GlyphRenderer\"},{\"id\":\"5e08d807-9c43-457b-b19f-82aba314375d\",\"type\":\"GlyphRenderer\"},{\"id\":\"0ea672f2-46d5-408d-960b-d63512abcf57\",\"type\":\"GlyphRenderer\"},{\"id\":\"2e503fb9-2973-45b7-a513-682aee485497\",\"type\":\"GlyphRenderer\"},{\"id\":\"69f96683-7886-4b4f-b6fa-73748721a94d\",\"type\":\"GlyphRenderer\"},{\"id\":\"e59acf94-0db9-4a4d-89a9-7af9120a0a40\",\"type\":\"GlyphRenderer\"},{\"id\":\"0b3ed80c-3d3e-4a3a-863b-f8bbf4b5dd87\",\"type\":\"GlyphRenderer\"},{\"id\":\"2cfca998-5c10-46ab-8dd7-93dfaa20f7c0\",\"type\":\"GlyphRenderer\"},{\"id\":\"1ad92963-7d87-4444-b392-89eb2d9a9273\",\"type\":\"CategoricalAxis\"},{\"id\":\"3a7b2e62-cbad-4c8d-ba0c-51d9ff123bec\",\"type\":\"LinearAxis\"},{\"id\":\"51857989-a581-4974-bea9-510928e602fa\",\"type\":\"Grid\"}],\"title\":{\"id\":\"7c00e09c-6347-4478-b3d9-96fdb4cc9a29\",\"type\":\"Title\"},\"tool_events\":{\"id\":\"806843e0-8be2-47d0-b2e3-477b0039d568\",\"type\":\"ToolEvents\"},\"toolbar\":{\"id\":\"65ce62bd-5034-446f-b85b-98acfd00631b\",\"type\":\"Toolbar\"},\"x_mapper_type\":\"auto\",\"x_range\":{\"id\":\"a4b6e175-3d16-4cc6-83c8-45bd9820f50d\",\"type\":\"FactorRange\"},\"y_mapper_type\":\"auto\",\"y_range\":{\"id\":\"d3aabbc5-8e64-469b-8ec6-090ad8ac6f3b\",\"type\":\"Range1d\"}},\"id\":\"0151aeae-29aa-45a4-b0e3-df15611cf41e\",\"subtype\":\"Chart\",\"type\":\"Plot\"},{\"attributes\":{\"bottom_units\":\"screen\",\"fill_alpha\":{\"value\":0.5},\"fill_color\":{\"value\":\"lightgrey\"},\"left_units\":\"screen\",\"level\":\"overlay\",\"line_alpha\":{\"value\":1.0},\"line_color\":{\"value\":\"black\"},\"line_dash\":[4,4],\"line_width\":{\"value\":2},\"plot\":null,\"render_mode\":\"css\",\"right_units\":\"screen\",\"top_units\":\"screen\"},\"id\":\"f56b5a91-dd9e-4462-b591-2a4dff58de95\",\"type\":\"BoxAnnotation\"},{\"attributes\":{},\"id\":\"f39a9be7-548a-49d2-87a4-bbd0106d6d94\",\"type\":\"BasicTickFormatter\"},{\"attributes\":{\"callback\":null,\"column_names\":[\"line_color\",\"line_alpha\",\"color\",\"fill_alpha\",\"height\",\"width\",\"y\",\"x\",\"label\"],\"data\":{\"chart_index\":[{\"label\":\"Apr\"}],\"color\":[\"#f22c40\"],\"fill_alpha\":[0.8],\"height\":[21.0],\"label\":[\"Apr\"],\"line_alpha\":[1.0],\"line_color\":[\"white\"],\"width\":[0.8],\"x\":[\"Apr\"],\"y\":[10.5]}},\"id\":\"f0f86cd5-ab63-4765-8301-6e3e99b05a13\",\"type\":\"ColumnDataSource\"},{\"attributes\":{\"fill_alpha\":{\"field\":\"fill_alpha\"},\"fill_color\":{\"field\":\"color\"},\"height\":{\"field\":\"height\",\"units\":\"data\"},\"line_color\":{\"field\":\"line_color\"},\"width\":{\"field\":\"width\",\"units\":\"data\"},\"x\":{\"field\":\"x\"},\"y\":{\"field\":\"y\"}},\"id\":\"7b75b93e-6a49-4f51-8630-640d8b62469f\",\"type\":\"Rect\"},{\"attributes\":{\"data_source\":{\"id\":\"fa9f2bc0-d532-477b-8627-2d734515594d\",\"type\":\"ColumnDataSource\"},\"glyph\":{\"id\":\"17e85f0b-f4da-491a-9bd5-b5cd777bce37\",\"type\":\"Rect\"},\"hover_glyph\":null,\"nonselection_glyph\":null,\"selection_glyph\":null},\"id\":\"83637c82-1c55-460b-83f7-f12993d0f1e5\",\"type\":\"GlyphRenderer\"},{\"attributes\":{\"fill_alpha\":{\"field\":\"fill_alpha\"},\"fill_color\":{\"field\":\"color\"},\"height\":{\"field\":\"height\",\"units\":\"data\"},\"line_color\":{\"field\":\"line_color\"},\"width\":{\"field\":\"width\",\"units\":\"data\"},\"x\":{\"field\":\"x\"},\"y\":{\"field\":\"y\"}},\"id\":\"105c0ab4-484f-423c-b947-502ad20eef8b\",\"type\":\"Rect\"},{\"attributes\":{},\"id\":\"e2eeac50-dd56-4dc7-a1b5-2568a74818ba\",\"type\":\"BasicTickFormatter\"},{\"attributes\":{\"fill_alpha\":{\"field\":\"fill_alpha\"},\"fill_color\":{\"field\":\"color\"},\"height\":{\"field\":\"height\",\"units\":\"data\"},\"line_color\":{\"field\":\"line_color\"},\"width\":{\"field\":\"width\",\"units\":\"data\"},\"x\":{\"field\":\"x\"},\"y\":{\"field\":\"y\"}},\"id\":\"b1d517b8-f72c-48a0-b7a3-8a65d1832a54\",\"type\":\"Rect\"},{\"attributes\":{\"fill_alpha\":{\"field\":\"fill_alpha\"},\"fill_color\":{\"field\":\"color\"},\"height\":{\"field\":\"height\",\"units\":\"data\"},\"line_color\":{\"field\":\"line_color\"},\"width\":{\"field\":\"width\",\"units\":\"data\"},\"x\":{\"field\":\"x\"},\"y\":{\"field\":\"y\"}},\"id\":\"571cae98-9b91-4e59-b695-e466602c1702\",\"type\":\"Rect\"},{\"attributes\":{},\"id\":\"3227d8f4-b066-43e8-9378-a99177cbe564\",\"type\":\"BasicTicker\"},{\"attributes\":{\"bottom_units\":\"screen\",\"fill_alpha\":{\"value\":0.5},\"fill_color\":{\"value\":\"lightgrey\"},\"left_units\":\"screen\",\"level\":\"overlay\",\"line_alpha\":{\"value\":1.0},\"line_color\":{\"value\":\"black\"},\"line_dash\":[4,4],\"line_width\":{\"value\":2},\"plot\":null,\"render_mode\":\"css\",\"right_units\":\"screen\",\"top_units\":\"screen\"},\"id\":\"9e57f39b-b36c-424c-9955-6f2d7741c30b\",\"type\":\"BoxAnnotation\"},{\"attributes\":{\"data_source\":{\"id\":\"ce80cff1-3cac-4ef5-b7c4-c25b29ba00b0\",\"type\":\"ColumnDataSource\"},\"glyph\":{\"id\":\"d204e8a0-0950-4b1a-8fa8-252fad4f60a0\",\"type\":\"Rect\"},\"hover_glyph\":null,\"nonselection_glyph\":null,\"selection_glyph\":null},\"id\":\"7c7d8e84-8a88-43c4-8f10-ab738e3cebce\",\"type\":\"GlyphRenderer\"},{\"attributes\":{\"callback\":null,\"column_names\":[\"line_color\",\"line_alpha\",\"color\",\"fill_alpha\",\"height\",\"width\",\"y\",\"x\",\"label\"],\"data\":{\"chart_index\":[{\"label\":\"Feb\"}],\"color\":[\"#f22c40\"],\"fill_alpha\":[0.8],\"height\":[17.0],\"label\":[\"Feb\"],\"line_alpha\":[1.0],\"line_color\":[\"white\"],\"width\":[0.8],\"x\":[\"Feb\"],\"y\":[8.5]}},\"id\":\"fa6f8ca4-318e-48a8-b789-cb16903eb5da\",\"type\":\"ColumnDataSource\"},{\"attributes\":{},\"id\":\"b3ad9d90-1efd-45c6-b6d7-0f761b692cbf\",\"type\":\"CategoricalTickFormatter\"},{\"attributes\":{\"callback\":null,\"column_names\":[\"line_color\",\"line_alpha\",\"color\",\"fill_alpha\",\"height\",\"width\",\"y\",\"x\",\"label\"],\"data\":{\"chart_index\":[{\"label\":\"Oct\"}],\"color\":[\"#f22c40\"],\"fill_alpha\":[0.8],\"height\":[27.0],\"label\":[\"Oct\"],\"line_alpha\":[1.0],\"line_color\":[\"white\"],\"width\":[0.8],\"x\":[\"Oct\"],\"y\":[13.5]}},\"id\":\"d3417461-cd18-4e36-bb25-80200230e482\",\"type\":\"ColumnDataSource\"},{\"attributes\":{\"fill_alpha\":{\"field\":\"fill_alpha\"},\"fill_color\":{\"field\":\"color\"},\"height\":{\"field\":\"height\",\"units\":\"data\"},\"line_color\":{\"field\":\"line_color\"},\"width\":{\"field\":\"width\",\"units\":\"data\"},\"x\":{\"field\":\"x\"},\"y\":{\"field\":\"y\"}},\"id\":\"d36de994-2a37-4113-86ca-80e17a058c86\",\"type\":\"Rect\"},{\"attributes\":{},\"id\":\"c57550a0-c9d1-41b3-8160-d4636a1f1672\",\"type\":\"BasicTicker\"},{\"attributes\":{\"fill_alpha\":{\"field\":\"fill_alpha\"},\"fill_color\":{\"field\":\"color\"},\"height\":{\"field\":\"height\",\"units\":\"data\"},\"line_color\":{\"field\":\"line_color\"},\"width\":{\"field\":\"width\",\"units\":\"data\"},\"x\":{\"field\":\"x\"},\"y\":{\"field\":\"y\"}},\"id\":\"2dacf986-46fc-43ca-9b90-bd1870e2a630\",\"type\":\"Rect\"},{\"attributes\":{\"callback\":null,\"factors\":[\"Jan\",\"Feb\",\"Mar\",\"Apr\",\"May\",\"Jun\",\"Jul\",\"Aug\",\"Sep\",\"Oct\",\"Nov\",\"Dec\"]},\"id\":\"fb38020a-cb7c-475e-b1d3-0154d35669e9\",\"type\":\"FactorRange\"},{\"attributes\":{\"plot\":{\"id\":\"0151aeae-29aa-45a4-b0e3-df15611cf41e\",\"subtype\":\"Chart\",\"type\":\"Plot\"}},\"id\":\"8b891c0f-b0b6-49e3-acb3-349d7e827c72\",\"type\":\"WheelZoomTool\"},{\"attributes\":{\"callback\":null,\"column_names\":[\"line_color\",\"line_alpha\",\"color\",\"fill_alpha\",\"height\",\"width\",\"y\",\"x\",\"label\"],\"data\":{\"chart_index\":[{\"label\":\"Aug\"}],\"color\":[\"#f22c40\"],\"fill_alpha\":[0.8],\"height\":[8.0],\"label\":[\"Aug\"],\"line_alpha\":[1.0],\"line_color\":[\"white\"],\"width\":[0.8],\"x\":[\"Aug\"],\"y\":[4.0]}},\"id\":\"4043dde2-00fa-4f5e-93ee-4f0548fc68a8\",\"type\":\"ColumnDataSource\"},{\"attributes\":{\"plot\":{\"id\":\"c9262376-6216-4857-b02c-66dfdb05aeae\",\"subtype\":\"Chart\",\"type\":\"Plot\"}},\"id\":\"f9caaca4-54db-422d-8d47-4881bf10ea85\",\"type\":\"ResetTool\"},{\"attributes\":{\"fill_alpha\":{\"field\":\"fill_alpha\"},\"fill_color\":{\"field\":\"color\"},\"height\":{\"field\":\"height\",\"units\":\"data\"},\"line_color\":{\"field\":\"line_color\"},\"width\":{\"field\":\"width\",\"units\":\"data\"},\"x\":{\"field\":\"x\"},\"y\":{\"field\":\"y\"}},\"id\":\"17e85f0b-f4da-491a-9bd5-b5cd777bce37\",\"type\":\"Rect\"},{\"attributes\":{\"axis_label\":\"\",\"formatter\":{\"id\":\"b3ad9d90-1efd-45c6-b6d7-0f761b692cbf\",\"type\":\"CategoricalTickFormatter\"},\"major_label_orientation\":0.7853981633974483,\"plot\":{\"id\":\"0151aeae-29aa-45a4-b0e3-df15611cf41e\",\"subtype\":\"Chart\",\"type\":\"Plot\"},\"ticker\":{\"id\":\"dd0e6b37-adfe-444a-84df-2490013d55a7\",\"type\":\"CategoricalTicker\"}},\"id\":\"1ad92963-7d87-4444-b392-89eb2d9a9273\",\"type\":\"CategoricalAxis\"},{\"attributes\":{\"data_source\":{\"id\":\"fa6f8ca4-318e-48a8-b789-cb16903eb5da\",\"type\":\"ColumnDataSource\"},\"glyph\":{\"id\":\"7488b159-26bb-4aa1-8450-1bc2fe88c14d\",\"type\":\"Rect\"},\"hover_glyph\":null,\"nonselection_glyph\":null,\"selection_glyph\":null},\"id\":\"2e97eb3b-0d1b-465d-a351-5e33a7c07d5c\",\"type\":\"GlyphRenderer\"},{\"attributes\":{},\"id\":\"dd0e6b37-adfe-444a-84df-2490013d55a7\",\"type\":\"CategoricalTicker\"},{\"attributes\":{\"data_source\":{\"id\":\"8b992414-6809-41e2-8cc9-f5e06deeffd6\",\"type\":\"ColumnDataSource\"},\"glyph\":{\"id\":\"f56310c5-7452-4f24-897f-d6f53d3f56ef\",\"type\":\"Rect\"},\"hover_glyph\":null,\"nonselection_glyph\":null,\"selection_glyph\":null},\"id\":\"d0d53fe4-1a13-4843-91aa-2e20c57e36ce\",\"type\":\"GlyphRenderer\"},{\"attributes\":{\"data_source\":{\"id\":\"db81c46e-a5ce-48bf-88cd-66fdce68a7f6\",\"type\":\"ColumnDataSource\"},\"glyph\":{\"id\":\"5d3fbf3a-0016-4cc5-8b53-83d868a7c1f7\",\"type\":\"Rect\"},\"hover_glyph\":null,\"nonselection_glyph\":null,\"selection_glyph\":null},\"id\":\"af4175db-1227-4d52-a1e1-2576ff170ec3\",\"type\":\"GlyphRenderer\"},{\"attributes\":{\"callback\":null,\"column_names\":[\"line_color\",\"line_alpha\",\"color\",\"fill_alpha\",\"height\",\"width\",\"y\",\"x\",\"label\"],\"data\":{\"chart_index\":[{\"label\":\"May\"}],\"color\":[\"#f22c40\"],\"fill_alpha\":[0.8],\"height\":[17.0],\"label\":[\"May\"],\"line_alpha\":[1.0],\"line_color\":[\"white\"],\"width\":[0.8],\"x\":[\"May\"],\"y\":[8.5]}},\"id\":\"7cf762eb-eda0-4ad3-a482-78dd6423b53b\",\"type\":\"ColumnDataSource\"},{\"attributes\":{\"callback\":null,\"end\":29.4},\"id\":\"d3aabbc5-8e64-469b-8ec6-090ad8ac6f3b\",\"type\":\"Range1d\"},{\"attributes\":{\"fill_alpha\":{\"field\":\"fill_alpha\"},\"fill_color\":{\"field\":\"color\"},\"height\":{\"field\":\"height\",\"units\":\"data\"},\"line_color\":{\"field\":\"line_color\"},\"width\":{\"field\":\"width\",\"units\":\"data\"},\"x\":{\"field\":\"x\"},\"y\":{\"field\":\"y\"}},\"id\":\"70a87c41-d2cf-413d-a7a8-02f260bc8d8a\",\"type\":\"Rect\"},{\"attributes\":{\"callback\":null,\"column_names\":[\"line_color\",\"line_alpha\",\"color\",\"fill_alpha\",\"height\",\"width\",\"y\",\"x\",\"label\"],\"data\":{\"chart_index\":[{\"label\":\"Sep\"}],\"color\":[\"#f22c40\"],\"fill_alpha\":[0.8],\"height\":[28.0],\"label\":[\"Sep\"],\"line_alpha\":[1.0],\"line_color\":[\"white\"],\"width\":[0.8],\"x\":[\"Sep\"],\"y\":[14.0]}},\"id\":\"05203ba1-9224-44fd-b15c-862b7fac8ba4\",\"type\":\"ColumnDataSource\"},{\"attributes\":{\"callback\":null,\"column_names\":[\"line_color\",\"line_alpha\",\"color\",\"fill_alpha\",\"height\",\"width\",\"y\",\"x\",\"label\"],\"data\":{\"chart_index\":[{\"label\":\"Mar\"}],\"color\":[\"#f22c40\"],\"fill_alpha\":[0.8],\"height\":[10.0],\"label\":[\"Mar\"],\"line_alpha\":[1.0],\"line_color\":[\"white\"],\"width\":[0.8],\"x\":[\"Mar\"],\"y\":[5.0]}},\"id\":\"a7fcf503-b5a9-4b61-8aa9-4953863eb54c\",\"type\":\"ColumnDataSource\"},{\"attributes\":{\"plot\":null,\"text\":\"Tweets count\"},\"id\":\"cc75598a-2974-4b43-9225-53a48ec73abf\",\"type\":\"Title\"},{\"attributes\":{\"plot\":{\"id\":\"0151aeae-29aa-45a4-b0e3-df15611cf41e\",\"subtype\":\"Chart\",\"type\":\"Plot\"}},\"id\":\"7a279f07-15b1-403c-9293-cbf7fa2a1c22\",\"type\":\"ResetTool\"},{\"attributes\":{\"callback\":null,\"end\":58.8},\"id\":\"3e0185a5-10ef-481a-99b2-e77f234bc24c\",\"type\":\"Range1d\"},{\"attributes\":{\"callback\":null,\"column_names\":[\"line_color\",\"line_alpha\",\"color\",\"fill_alpha\",\"height\",\"width\",\"y\",\"x\",\"label\"],\"data\":{\"chart_index\":[{\"label\":\"Apr\"}],\"color\":[\"#f22c40\"],\"fill_alpha\":[0.8],\"height\":[13.0],\"label\":[\"Apr\"],\"line_alpha\":[1.0],\"line_color\":[\"white\"],\"width\":[0.8],\"x\":[\"Apr\"],\"y\":[6.5]}},\"id\":\"6b47c8b3-1cae-4498-b69b-d35619490031\",\"type\":\"ColumnDataSource\"},{\"attributes\":{\"callback\":null,\"factors\":[\"Jan\",\"Feb\",\"Mar\",\"Apr\",\"May\",\"Jun\",\"Jul\",\"Aug\",\"Sep\",\"Oct\",\"Nov\",\"Dec\"]},\"id\":\"a4b6e175-3d16-4cc6-83c8-45bd9820f50d\",\"type\":\"FactorRange\"},{\"attributes\":{\"active_drag\":\"auto\",\"active_scroll\":\"auto\",\"active_tap\":\"auto\",\"tools\":[{\"id\":\"353cb91e-0f0d-415b-acd8-09b7acfc3cf2\",\"type\":\"PanTool\"},{\"id\":\"8b891c0f-b0b6-49e3-acb3-349d7e827c72\",\"type\":\"WheelZoomTool\"},{\"id\":\"1cb33755-ebf4-4d69-80e8-9c6bd4118007\",\"type\":\"BoxZoomTool\"},{\"id\":\"aa05f528-577b-43a8-b1c7-e2c74fde50e6\",\"type\":\"SaveTool\"},{\"id\":\"7a279f07-15b1-403c-9293-cbf7fa2a1c22\",\"type\":\"ResetTool\"},{\"id\":\"a3295c18-5f1e-44da-9352-a1b0554b0520\",\"type\":\"HelpTool\"}]},\"id\":\"65ce62bd-5034-446f-b85b-98acfd00631b\",\"type\":\"Toolbar\"},{\"attributes\":{\"callback\":null,\"column_names\":[\"line_color\",\"line_alpha\",\"color\",\"fill_alpha\",\"height\",\"width\",\"y\",\"x\",\"label\"],\"data\":{\"chart_index\":[{\"label\":\"Jun\"}],\"color\":[\"#f22c40\"],\"fill_alpha\":[0.8],\"height\":[15.0],\"label\":[\"Jun\"],\"line_alpha\":[1.0],\"line_color\":[\"white\"],\"width\":[0.8],\"x\":[\"Jun\"],\"y\":[7.5]}},\"id\":\"8ba85a27-3bdd-4912-b90a-f928902f1593\",\"type\":\"ColumnDataSource\"},{\"attributes\":{\"fill_alpha\":{\"field\":\"fill_alpha\"},\"fill_color\":{\"field\":\"color\"},\"height\":{\"field\":\"height\",\"units\":\"data\"},\"line_color\":{\"field\":\"line_color\"},\"width\":{\"field\":\"width\",\"units\":\"data\"},\"x\":{\"field\":\"x\"},\"y\":{\"field\":\"y\"}},\"id\":\"d0949a9e-933b-4175-b2e8-f41c0ce02130\",\"type\":\"Rect\"},{\"attributes\":{\"data_source\":{\"id\":\"f0f86cd5-ab63-4765-8301-6e3e99b05a13\",\"type\":\"ColumnDataSource\"},\"glyph\":{\"id\":\"66bc91cb-0d57-4322-a495-8735e6268452\",\"type\":\"Rect\"},\"hover_glyph\":null,\"nonselection_glyph\":null,\"selection_glyph\":null},\"id\":\"dcf80402-3a06-4b98-9d92-d8540737d3b8\",\"type\":\"GlyphRenderer\"},{\"attributes\":{\"data_source\":{\"id\":\"e5b1b359-d9e6-4a82-8bbe-34e5f97165d8\",\"type\":\"ColumnDataSource\"},\"glyph\":{\"id\":\"10b045b6-12fd-40dc-a7e5-e582e5a7ac45\",\"type\":\"Rect\"},\"hover_glyph\":null,\"nonselection_glyph\":null,\"selection_glyph\":null},\"id\":\"d81131de-db4d-4dde-b2e5-10156d352e8d\",\"type\":\"GlyphRenderer\"},{\"attributes\":{\"callback\":null,\"column_names\":[\"line_color\",\"line_alpha\",\"color\",\"fill_alpha\",\"height\",\"width\",\"y\",\"x\",\"label\"],\"data\":{\"chart_index\":[{\"label\":\"Jun\"}],\"color\":[\"#f22c40\"],\"fill_alpha\":[0.8],\"height\":[11.0],\"label\":[\"Jun\"],\"line_alpha\":[1.0],\"line_color\":[\"white\"],\"width\":[0.8],\"x\":[\"Jun\"],\"y\":[5.5]}},\"id\":\"2a333aa3-0191-4097-a095-0b4108381ae4\",\"type\":\"ColumnDataSource\"},{\"attributes\":{\"overlay\":{\"id\":\"9e57f39b-b36c-424c-9955-6f2d7741c30b\",\"type\":\"BoxAnnotation\"},\"plot\":{\"id\":\"0151aeae-29aa-45a4-b0e3-df15611cf41e\",\"subtype\":\"Chart\",\"type\":\"Plot\"}},\"id\":\"1cb33755-ebf4-4d69-80e8-9c6bd4118007\",\"type\":\"BoxZoomTool\"},{\"attributes\":{\"callback\":null,\"column_names\":[\"line_color\",\"line_alpha\",\"color\",\"fill_alpha\",\"height\",\"width\",\"y\",\"x\",\"label\"],\"data\":{\"chart_index\":[{\"label\":\"Jul\"}],\"color\":[\"#f22c40\"],\"fill_alpha\":[0.8],\"height\":[10.0],\"label\":[\"Jul\"],\"line_alpha\":[1.0],\"line_color\":[\"white\"],\"width\":[0.8],\"x\":[\"Jul\"],\"y\":[5.0]}},\"id\":\"69cfb0d0-0bb0-4050-84a9-7d80ecfe4cae\",\"type\":\"ColumnDataSource\"},{\"attributes\":{\"data_source\":{\"id\":\"0d2d1015-7c70-44c4-92c9-f17491c3b188\",\"type\":\"ColumnDataSource\"},\"glyph\":{\"id\":\"571cae98-9b91-4e59-b695-e466602c1702\",\"type\":\"Rect\"},\"hover_glyph\":null,\"nonselection_glyph\":null,\"selection_glyph\":null},\"id\":\"0b3ed80c-3d3e-4a3a-863b-f8bbf4b5dd87\",\"type\":\"GlyphRenderer\"},{\"attributes\":{\"data_source\":{\"id\":\"9ce89967-8c9a-49d1-98d9-99766de785dc\",\"type\":\"ColumnDataSource\"},\"glyph\":{\"id\":\"d36de994-2a37-4113-86ca-80e17a058c86\",\"type\":\"Rect\"},\"hover_glyph\":null,\"nonselection_glyph\":null,\"selection_glyph\":null},\"id\":\"e406f21c-ce71-4315-b510-d3589c6de5c6\",\"type\":\"GlyphRenderer\"},{\"attributes\":{\"callback\":null,\"column_names\":[\"line_color\",\"line_alpha\",\"color\",\"fill_alpha\",\"height\",\"width\",\"y\",\"x\",\"label\"],\"data\":{\"chart_index\":[{\"label\":\"Aug\"}],\"color\":[\"#f22c40\"],\"fill_alpha\":[0.8],\"height\":[12.0],\"label\":[\"Aug\"],\"line_alpha\":[1.0],\"line_color\":[\"white\"],\"width\":[0.8],\"x\":[\"Aug\"],\"y\":[6.0]}},\"id\":\"ce80cff1-3cac-4ef5-b7c4-c25b29ba00b0\",\"type\":\"ColumnDataSource\"},{\"attributes\":{\"callback\":null,\"column_names\":[\"line_color\",\"line_alpha\",\"color\",\"fill_alpha\",\"height\",\"width\",\"y\",\"x\",\"label\"],\"data\":{\"chart_index\":[{\"label\":\"May\"}],\"color\":[\"#f22c40\"],\"fill_alpha\":[0.8],\"height\":[10.0],\"label\":[\"May\"],\"line_alpha\":[1.0],\"line_color\":[\"white\"],\"width\":[0.8],\"x\":[\"May\"],\"y\":[5.0]}},\"id\":\"0b42cd22-0283-49b2-b3b3-ec735fad06c7\",\"type\":\"ColumnDataSource\"},{\"attributes\":{\"fill_alpha\":{\"field\":\"fill_alpha\"},\"fill_color\":{\"field\":\"color\"},\"height\":{\"field\":\"height\",\"units\":\"data\"},\"line_color\":{\"field\":\"line_color\"},\"width\":{\"field\":\"width\",\"units\":\"data\"},\"x\":{\"field\":\"x\"},\"y\":{\"field\":\"y\"}},\"id\":\"f56310c5-7452-4f24-897f-d6f53d3f56ef\",\"type\":\"Rect\"},{\"attributes\":{\"fill_alpha\":{\"field\":\"fill_alpha\"},\"fill_color\":{\"field\":\"color\"},\"height\":{\"field\":\"height\",\"units\":\"data\"},\"line_color\":{\"field\":\"line_color\"},\"width\":{\"field\":\"width\",\"units\":\"data\"},\"x\":{\"field\":\"x\"},\"y\":{\"field\":\"y\"}},\"id\":\"5d3fbf3a-0016-4cc5-8b53-83d868a7c1f7\",\"type\":\"Rect\"},{\"attributes\":{\"fill_alpha\":{\"field\":\"fill_alpha\"},\"fill_color\":{\"field\":\"color\"},\"height\":{\"field\":\"height\",\"units\":\"data\"},\"line_color\":{\"field\":\"line_color\"},\"width\":{\"field\":\"width\",\"units\":\"data\"},\"x\":{\"field\":\"x\"},\"y\":{\"field\":\"y\"}},\"id\":\"d204e8a0-0950-4b1a-8fa8-252fad4f60a0\",\"type\":\"Rect\"},{\"attributes\":{\"data_source\":{\"id\":\"58a7ba52-aae2-45dd-9f1f-762ebcfc0002\",\"type\":\"ColumnDataSource\"},\"glyph\":{\"id\":\"b1d517b8-f72c-48a0-b7a3-8a65d1832a54\",\"type\":\"Rect\"},\"hover_glyph\":null,\"nonselection_glyph\":null,\"selection_glyph\":null},\"id\":\"e5e347f4-e2e3-4997-8655-30fef2b97f5e\",\"type\":\"GlyphRenderer\"},{\"attributes\":{\"callback\":null,\"column_names\":[\"line_color\",\"line_alpha\",\"color\",\"fill_alpha\",\"height\",\"width\",\"y\",\"x\",\"label\"],\"data\":{\"chart_index\":[{\"label\":\"Dec\"}],\"color\":[\"#f22c40\"],\"fill_alpha\":[0.8],\"height\":[6.0],\"label\":[\"Dec\"],\"line_alpha\":[1.0],\"line_color\":[\"white\"],\"width\":[0.8],\"x\":[\"Dec\"],\"y\":[3.0]}},\"id\":\"c9ec2c73-7a03-475c-9824-3b7365386035\",\"type\":\"ColumnDataSource\"},{\"attributes\":{\"callback\":null,\"column_names\":[\"line_color\",\"line_alpha\",\"color\",\"fill_alpha\",\"height\",\"width\",\"y\",\"x\",\"label\"],\"data\":{\"chart_index\":[{\"label\":\"Mar\"}],\"color\":[\"#f22c40\"],\"fill_alpha\":[0.8],\"height\":[19.0],\"label\":[\"Mar\"],\"line_alpha\":[1.0],\"line_color\":[\"white\"],\"width\":[0.8],\"x\":[\"Mar\"],\"y\":[9.5]}},\"id\":\"fa9f2bc0-d532-477b-8627-2d734515594d\",\"type\":\"ColumnDataSource\"},{\"attributes\":{\"dimension\":1,\"plot\":{\"id\":\"0151aeae-29aa-45a4-b0e3-df15611cf41e\",\"subtype\":\"Chart\",\"type\":\"Plot\"},\"ticker\":{\"id\":\"3227d8f4-b066-43e8-9378-a99177cbe564\",\"type\":\"BasicTicker\"}},\"id\":\"51857989-a581-4974-bea9-510928e602fa\",\"type\":\"Grid\"},{\"attributes\":{\"overlay\":{\"id\":\"f56b5a91-dd9e-4462-b591-2a4dff58de95\",\"type\":\"BoxAnnotation\"},\"plot\":{\"id\":\"c9262376-6216-4857-b02c-66dfdb05aeae\",\"subtype\":\"Chart\",\"type\":\"Plot\"}},\"id\":\"5791a98c-ee94-4b45-b1f3-3c2b2edc702a\",\"type\":\"BoxZoomTool\"},{\"attributes\":{\"callback\":null,\"column_names\":[\"line_color\",\"line_alpha\",\"color\",\"fill_alpha\",\"height\",\"width\",\"y\",\"x\",\"label\"],\"data\":{\"chart_index\":[{\"label\":\"Jul\"}],\"color\":[\"#f22c40\"],\"fill_alpha\":[0.8],\"height\":[6.0],\"label\":[\"Jul\"],\"line_alpha\":[1.0],\"line_color\":[\"white\"],\"width\":[0.8],\"x\":[\"Jul\"],\"y\":[3.0]}},\"id\":\"961de964-bed1-4e16-b861-80d29d1cc42a\",\"type\":\"ColumnDataSource\"},{\"attributes\":{\"children\":[{\"id\":\"0151aeae-29aa-45a4-b0e3-df15611cf41e\",\"subtype\":\"Chart\",\"type\":\"Plot\"},{\"id\":\"c9262376-6216-4857-b02c-66dfdb05aeae\",\"subtype\":\"Chart\",\"type\":\"Plot\"}]},\"id\":\"96b72f81-9715-4472-8576-bfdca8aa2f1a\",\"type\":\"Row\"},{\"attributes\":{\"plot\":{\"id\":\"0151aeae-29aa-45a4-b0e3-df15611cf41e\",\"subtype\":\"Chart\",\"type\":\"Plot\"}},\"id\":\"353cb91e-0f0d-415b-acd8-09b7acfc3cf2\",\"type\":\"PanTool\"},{\"attributes\":{\"data_source\":{\"id\":\"961de964-bed1-4e16-b861-80d29d1cc42a\",\"type\":\"ColumnDataSource\"},\"glyph\":{\"id\":\"d0949a9e-933b-4175-b2e8-f41c0ce02130\",\"type\":\"Rect\"},\"hover_glyph\":null,\"nonselection_glyph\":null,\"selection_glyph\":null},\"id\":\"0ea672f2-46d5-408d-960b-d63512abcf57\",\"type\":\"GlyphRenderer\"},{\"attributes\":{\"axis_label\":\"\",\"formatter\":{\"id\":\"f00a336e-19d6-4584-9e86-738f06ebb4d7\",\"type\":\"CategoricalTickFormatter\"},\"major_label_orientation\":0.7853981633974483,\"plot\":{\"id\":\"c9262376-6216-4857-b02c-66dfdb05aeae\",\"subtype\":\"Chart\",\"type\":\"Plot\"},\"ticker\":{\"id\":\"6e0226ae-5ac6-480d-9b0d-36249e0b18da\",\"type\":\"CategoricalTicker\"}},\"id\":\"a579cfbc-237e-4a06-8250-47f93eb197d0\",\"type\":\"CategoricalAxis\"},{\"attributes\":{\"fill_alpha\":{\"field\":\"fill_alpha\"},\"fill_color\":{\"field\":\"color\"},\"height\":{\"field\":\"height\",\"units\":\"data\"},\"line_color\":{\"field\":\"line_color\"},\"width\":{\"field\":\"width\",\"units\":\"data\"},\"x\":{\"field\":\"x\"},\"y\":{\"field\":\"y\"}},\"id\":\"f77eda65-113a-4e4a-8877-b88ada33390a\",\"type\":\"Rect\"},{\"attributes\":{\"fill_alpha\":{\"field\":\"fill_alpha\"},\"fill_color\":{\"field\":\"color\"},\"height\":{\"field\":\"height\",\"units\":\"data\"},\"line_color\":{\"field\":\"line_color\"},\"width\":{\"field\":\"width\",\"units\":\"data\"},\"x\":{\"field\":\"x\"},\"y\":{\"field\":\"y\"}},\"id\":\"2fed12ed-e047-411d-a554-92c9e6442f49\",\"type\":\"Rect\"},{\"attributes\":{\"plot\":{\"id\":\"c9262376-6216-4857-b02c-66dfdb05aeae\",\"subtype\":\"Chart\",\"type\":\"Plot\"}},\"id\":\"b775eb4c-baff-4413-be28-9dc04d7f1871\",\"type\":\"PanTool\"}],\"root_ids\":[\"96b72f81-9715-4472-8576-bfdca8aa2f1a\"]},\"title\":\"Bokeh Application\",\"version\":\"0.12.0\"}};\n",
       "            var render_items = [{\"docid\":\"cf19a03f-5e11-4239-99ad-f8c6811e0f9a\",\"elementid\":\"4e23fecb-c7c7-4ba3-8dfe-ad294488956a\",\"modelid\":\"96b72f81-9715-4472-8576-bfdca8aa2f1a\",\"notebook_comms_target\":\"cc066eca-8a0d-4ca9-80c8-d48760f41833\"}];\n",
       "            \n",
       "            Bokeh.embed.embed_items(docs_json, render_items);\n",
       "        });\n",
       "      },\n",
       "      function(Bokeh) {\n",
       "      }\n",
       "    ];\n",
       "  \n",
       "    function run_inline_js() {\n",
       "      for (var i = 0; i < inline_js.length; i++) {\n",
       "        inline_js[i](window.Bokeh);\n",
       "      }\n",
       "    }\n",
       "  \n",
       "    if (window._bokeh_is_loading === 0) {\n",
       "      console.log(\"Bokeh: BokehJS loaded, going straight to plotting\");\n",
       "      run_inline_js();\n",
       "    } else {\n",
       "      load_libs(js_urls, function() {\n",
       "        console.log(\"Bokeh: BokehJS plotting callback run at\", now());\n",
       "        run_inline_js();\n",
       "      });\n",
       "    }\n",
       "  }(this));\n",
       "</script>"
      ]
     },
     "metadata": {},
     "output_type": "display_data"
    },
    {
     "data": {
      "text/html": [
       "<p><code>&lt;Bokeh Notebook handle for <strong>In[5]</strong>&gt;</code></p>"
      ],
      "text/plain": [
       "<bokeh.io._CommsHandle at 0x7f59d07dead0>"
      ]
     },
     "execution_count": 5,
     "metadata": {},
     "output_type": "execute_result"
    }
   ],
   "source": [
    "from bokeh.charts import Bar\n",
    "from bokeh.charts.attributes import CatAttr\n",
    "\n",
    "MONTHS = ['Jan', 'Feb', 'Mar', 'Apr', 'May', 'Jun', 'Jul', 'Aug', 'Sep', 'Oct', 'Nov', 'Dec']\n",
    "\n",
    "twitters_month_dict = dict(data=twitters_month, label=MONTHS)\n",
    "tweets_month_dict = dict(data=tweets_month, label=MONTHS)\n",
    "\n",
    "twitters_bar = Bar(twitters_month_dict, values='data', label=CatAttr(columns=['label'], sort=False), \n",
    "               plot_width=450, plot_height=450, legend=None, title=\"Twitters count\")\n",
    "tweets_bar = Bar(tweets_month_dict, values='data', label=CatAttr(columns=['label'], sort=False), \n",
    "             plot_width=450, plot_height=450, legend=None, title=\"Tweets count\")\n",
    "\n",
    "twitters_bar.xaxis.axis_label = tweets_bar.xaxis.axis_label = \"\"\n",
    "twitters_bar.yaxis.axis_label = \"twitters\"\n",
    "tweets_bar.yaxis.axis_label = \"tweets\"\n",
    "\n",
    "show(row(twitters_bar, tweets_bar))"
   ]
  },
  {
   "cell_type": "markdown",
   "metadata": {},
   "source": [
    "## (e) Pie chart of exist-url & no-url tweet count"
   ]
  },
  {
   "cell_type": "code",
   "execution_count": 6,
   "metadata": {
    "collapsed": false
   },
   "outputs": [
    {
     "data": {
      "text/html": [
       "\n",
       "\n",
       "    <div class=\"bk-root\">\n",
       "        <div class=\"plotdiv\" id=\"17673839-f7d0-4bfe-8c25-5ae21304de58\"></div>\n",
       "    </div>\n",
       "<script type=\"text/javascript\">\n",
       "  \n",
       "  (function(global) {\n",
       "    function now() {\n",
       "      return new Date();\n",
       "    }\n",
       "  \n",
       "    if (typeof (window._bokeh_onload_callbacks) === \"undefined\") {\n",
       "      window._bokeh_onload_callbacks = [];\n",
       "    }\n",
       "  \n",
       "    function run_callbacks() {\n",
       "      window._bokeh_onload_callbacks.forEach(function(callback) { callback() });\n",
       "      delete window._bokeh_onload_callbacks\n",
       "      console.info(\"Bokeh: all callbacks have finished\");\n",
       "    }\n",
       "  \n",
       "    function load_libs(js_urls, callback) {\n",
       "      window._bokeh_onload_callbacks.push(callback);\n",
       "      if (window._bokeh_is_loading > 0) {\n",
       "        console.log(\"Bokeh: BokehJS is being loaded, scheduling callback at\", now());\n",
       "        return null;\n",
       "      }\n",
       "      if (js_urls == null || js_urls.length === 0) {\n",
       "        run_callbacks();\n",
       "        return null;\n",
       "      }\n",
       "      console.log(\"Bokeh: BokehJS not loaded, scheduling load and callback at\", now());\n",
       "      window._bokeh_is_loading = js_urls.length;\n",
       "      for (var i = 0; i < js_urls.length; i++) {\n",
       "        var url = js_urls[i];\n",
       "        var s = document.createElement('script');\n",
       "        s.src = url;\n",
       "        s.async = false;\n",
       "        s.onreadystatechange = s.onload = function() {\n",
       "          window._bokeh_is_loading--;\n",
       "          if (window._bokeh_is_loading === 0) {\n",
       "            console.log(\"Bokeh: all BokehJS libraries loaded\");\n",
       "            run_callbacks()\n",
       "          }\n",
       "        };\n",
       "        s.onerror = function() {\n",
       "          console.warn(\"failed to load library \" + url);\n",
       "        };\n",
       "        console.log(\"Bokeh: injecting script tag for BokehJS library: \", url);\n",
       "        document.getElementsByTagName(\"head\")[0].appendChild(s);\n",
       "      }\n",
       "    };var element = document.getElementById(\"17673839-f7d0-4bfe-8c25-5ae21304de58\");\n",
       "    if (element == null) {\n",
       "      console.log(\"Bokeh: ERROR: autoload.js configured with elementid '17673839-f7d0-4bfe-8c25-5ae21304de58' but no matching script tag was found. \")\n",
       "      return false;\n",
       "    }\n",
       "  \n",
       "    var js_urls = [];\n",
       "  \n",
       "    var inline_js = [\n",
       "      function(Bokeh) {\n",
       "        Bokeh.$(function() {\n",
       "            var docs_json = {\"f0215c30-9e3c-4c3a-ac8f-edda01b314eb\":{\"roots\":{\"references\":[{\"attributes\":{\"axis_label\":null,\"formatter\":{\"id\":\"8f62222f-a96d-4e52-b4ed-cb1ea3d589be\",\"type\":\"BasicTickFormatter\"},\"plot\":{\"id\":\"252c9c0f-7825-4cd1-a2f1-d873315fba23\",\"subtype\":\"Chart\",\"type\":\"Plot\"},\"ticker\":{\"id\":\"57e36049-38b8-4f6e-b7b5-fcf55bea10e2\",\"type\":\"BasicTicker\"},\"visible\":false},\"id\":\"597c94ec-48d3-45f8-9cbb-53df34839b52\",\"type\":\"LinearAxis\"},{\"attributes\":{\"plot\":{\"id\":\"252c9c0f-7825-4cd1-a2f1-d873315fba23\",\"subtype\":\"Chart\",\"type\":\"Plot\"}},\"id\":\"3c42cb82-ad0f-4f19-a7b7-0ad004e4490e\",\"type\":\"ResetTool\"},{\"attributes\":{\"plot\":{\"id\":\"252c9c0f-7825-4cd1-a2f1-d873315fba23\",\"subtype\":\"Chart\",\"type\":\"Plot\"}},\"id\":\"b3a91d0a-e0d2-4fca-85dc-c5ff43463bd1\",\"type\":\"HelpTool\"},{\"attributes\":{\"data_source\":{\"id\":\"399a1071-e13a-4ae2-97f9-a60e25917cfb\",\"type\":\"ColumnDataSource\"},\"glyph\":{\"id\":\"a669c429-145e-44f6-b826-e2996c3c09cb\",\"type\":\"Text\"},\"hover_glyph\":null,\"nonselection_glyph\":null,\"selection_glyph\":null},\"id\":\"203aa6be-77b4-4d29-ae3e-14682d489cb7\",\"type\":\"GlyphRenderer\"},{\"attributes\":{\"plot\":{\"id\":\"252c9c0f-7825-4cd1-a2f1-d873315fba23\",\"subtype\":\"Chart\",\"type\":\"Plot\"}},\"id\":\"9775cc66-fa4d-4a36-b23f-da166782e025\",\"type\":\"WheelZoomTool\"},{\"attributes\":{\"overlay\":{\"id\":\"44433b13-1acc-4cf8-baca-7cfb08b7b5cd\",\"type\":\"BoxAnnotation\"},\"plot\":{\"id\":\"252c9c0f-7825-4cd1-a2f1-d873315fba23\",\"subtype\":\"Chart\",\"type\":\"Plot\"}},\"id\":\"ee73516b-fc88-4509-83e8-0c642609a1ae\",\"type\":\"BoxZoomTool\"},{\"attributes\":{\"below\":[{\"id\":\"22cff0a9-e47f-42e6-949f-7a3f2086d4aa\",\"type\":\"LinearAxis\"}],\"left\":[{\"id\":\"597c94ec-48d3-45f8-9cbb-53df34839b52\",\"type\":\"LinearAxis\"}],\"plot_height\":400,\"plot_width\":400,\"renderers\":[{\"id\":\"44433b13-1acc-4cf8-baca-7cfb08b7b5cd\",\"type\":\"BoxAnnotation\"},{\"id\":\"1bcff84a-79ca-4618-b538-f2a21eaa6a43\",\"type\":\"GlyphRenderer\"},{\"id\":\"203aa6be-77b4-4d29-ae3e-14682d489cb7\",\"type\":\"GlyphRenderer\"},{\"id\":\"f9ee1288-b262-4a99-8dca-b917e276bc7c\",\"type\":\"Legend\"},{\"id\":\"22cff0a9-e47f-42e6-949f-7a3f2086d4aa\",\"type\":\"LinearAxis\"},{\"id\":\"597c94ec-48d3-45f8-9cbb-53df34839b52\",\"type\":\"LinearAxis\"}],\"title\":{\"id\":\"a27d02ea-60b8-4c9d-bf9d-e1666ca386b7\",\"type\":\"Title\"},\"tool_events\":{\"id\":\"4223389f-d7f5-42c5-834c-6b51da7ddcc0\",\"type\":\"ToolEvents\"},\"toolbar\":{\"id\":\"deb1332b-34cc-414a-9685-8030064a2df1\",\"type\":\"Toolbar\"},\"x_mapper_type\":\"auto\",\"x_range\":{\"id\":\"a1ce35b2-0b72-425c-a0b9-0c12171d913f\",\"type\":\"Range1d\"},\"y_mapper_type\":\"auto\",\"y_range\":{\"id\":\"6be1b8b4-e333-4188-8a83-1086cf105949\",\"type\":\"Range1d\"}},\"id\":\"252c9c0f-7825-4cd1-a2f1-d873315fba23\",\"subtype\":\"Chart\",\"type\":\"Plot\"},{\"attributes\":{\"callback\":null,\"column_names\":[\"y\",\"x\",\"text_angle\",\"text\"],\"data\":{\"text\":[\"exist-url\",\"no-url\"],\"text_angle\":[0.0,0.0],\"x\":[-0.968674063238275,0.9686740632382751],\"y\":[0.572097508480373,-0.5720975084803727]}},\"id\":\"399a1071-e13a-4ae2-97f9-a60e25917cfb\",\"type\":\"ColumnDataSource\"},{\"attributes\":{\"plot\":{\"id\":\"252c9c0f-7825-4cd1-a2f1-d873315fba23\",\"subtype\":\"Chart\",\"type\":\"Plot\"}},\"id\":\"cd89a462-0b27-41a1-8dfc-49a3ac53894a\",\"type\":\"SaveTool\"},{\"attributes\":{\"plot\":null,\"text\":null},\"id\":\"a27d02ea-60b8-4c9d-bf9d-e1666ca386b7\",\"type\":\"Title\"},{\"attributes\":{},\"id\":\"c0fe5249-faa3-45b4-86de-f0f64db28745\",\"type\":\"BasicTicker\"},{\"attributes\":{\"callback\":null,\"end\":1.6500000000000001,\"start\":-1.6500000000000001},\"id\":\"6be1b8b4-e333-4188-8a83-1086cf105949\",\"type\":\"Range1d\"},{\"attributes\":{\"callback\":null,\"end\":1.6500000000000001,\"start\":-1.6500000000000001},\"id\":\"a1ce35b2-0b72-425c-a0b9-0c12171d913f\",\"type\":\"Range1d\"},{\"attributes\":{\"callback\":null,\"column_names\":[\"end\",\"inners\",\"level\",\"color\",\"label\",\"start\",\"values\",\"outers\",\"centers\"],\"data\":{\"centers\":[1.125,1.125],\"color\":[\"#f22c40\",\"#5ab738\"],\"end\":[5.216229311620789,6.283185307179586],\"inners\":[0.0,0.0],\"label\":[\"exist-url\",\"no-url\"],\"level\":[0.0,0.0],\"outers\":[1.5,1.5],\"start\":[0.0,5.216229311620789],\"values\":[220,45]}},\"id\":\"4fd43e84-5f76-435e-9b49-5cbfaec92852\",\"type\":\"ColumnDataSource\"},{\"attributes\":{},\"id\":\"57e36049-38b8-4f6e-b7b5-fcf55bea10e2\",\"type\":\"BasicTicker\"},{\"attributes\":{\"bottom_units\":\"screen\",\"fill_alpha\":{\"value\":0.5},\"fill_color\":{\"value\":\"lightgrey\"},\"left_units\":\"screen\",\"level\":\"overlay\",\"line_alpha\":{\"value\":1.0},\"line_color\":{\"value\":\"black\"},\"line_dash\":[4,4],\"line_width\":{\"value\":2},\"plot\":null,\"render_mode\":\"css\",\"right_units\":\"screen\",\"top_units\":\"screen\"},\"id\":\"44433b13-1acc-4cf8-baca-7cfb08b7b5cd\",\"type\":\"BoxAnnotation\"},{\"attributes\":{\"end_angle\":{\"field\":\"end\",\"units\":\"rad\"},\"fill_alpha\":{\"value\":0.8},\"fill_color\":{\"field\":\"color\"},\"inner_radius\":{\"field\":\"inners\",\"units\":\"data\"},\"line_color\":{\"value\":\"White\"},\"outer_radius\":{\"field\":\"outers\",\"units\":\"data\"},\"start_angle\":{\"field\":\"start\",\"units\":\"rad\"},\"x\":{\"value\":0},\"y\":{\"value\":0}},\"id\":\"3dc36961-d714-404a-80f8-9e5af95992d1\",\"type\":\"AnnularWedge\"},{\"attributes\":{\"location\":\"top_left\",\"plot\":{\"id\":\"252c9c0f-7825-4cd1-a2f1-d873315fba23\",\"subtype\":\"Chart\",\"type\":\"Plot\"}},\"id\":\"f9ee1288-b262-4a99-8dca-b917e276bc7c\",\"type\":\"Legend\"},{\"attributes\":{\"angle\":{\"field\":\"text_angle\",\"units\":\"rad\"},\"text_align\":\"center\",\"text_baseline\":\"middle\",\"text_font_size\":{\"value\":\"8pt\"},\"x\":{\"field\":\"x\"},\"y\":{\"field\":\"y\"}},\"id\":\"a669c429-145e-44f6-b826-e2996c3c09cb\",\"type\":\"Text\"},{\"attributes\":{\"plot\":{\"id\":\"252c9c0f-7825-4cd1-a2f1-d873315fba23\",\"subtype\":\"Chart\",\"type\":\"Plot\"}},\"id\":\"f365b0b9-d508-4a9c-934c-bb038ac957d3\",\"type\":\"PanTool\"},{\"attributes\":{},\"id\":\"460534ce-19fe-48b3-b272-0f808b20c702\",\"type\":\"BasicTickFormatter\"},{\"attributes\":{\"data_source\":{\"id\":\"4fd43e84-5f76-435e-9b49-5cbfaec92852\",\"type\":\"ColumnDataSource\"},\"glyph\":{\"id\":\"3dc36961-d714-404a-80f8-9e5af95992d1\",\"type\":\"AnnularWedge\"},\"hover_glyph\":null,\"nonselection_glyph\":null,\"selection_glyph\":null},\"id\":\"1bcff84a-79ca-4618-b538-f2a21eaa6a43\",\"type\":\"GlyphRenderer\"},{\"attributes\":{},\"id\":\"4223389f-d7f5-42c5-834c-6b51da7ddcc0\",\"type\":\"ToolEvents\"},{\"attributes\":{\"axis_label\":null,\"formatter\":{\"id\":\"460534ce-19fe-48b3-b272-0f808b20c702\",\"type\":\"BasicTickFormatter\"},\"plot\":{\"id\":\"252c9c0f-7825-4cd1-a2f1-d873315fba23\",\"subtype\":\"Chart\",\"type\":\"Plot\"},\"ticker\":{\"id\":\"c0fe5249-faa3-45b4-86de-f0f64db28745\",\"type\":\"BasicTicker\"},\"visible\":false},\"id\":\"22cff0a9-e47f-42e6-949f-7a3f2086d4aa\",\"type\":\"LinearAxis\"},{\"attributes\":{\"active_drag\":\"auto\",\"active_scroll\":\"auto\",\"active_tap\":\"auto\",\"tools\":[{\"id\":\"f365b0b9-d508-4a9c-934c-bb038ac957d3\",\"type\":\"PanTool\"},{\"id\":\"9775cc66-fa4d-4a36-b23f-da166782e025\",\"type\":\"WheelZoomTool\"},{\"id\":\"ee73516b-fc88-4509-83e8-0c642609a1ae\",\"type\":\"BoxZoomTool\"},{\"id\":\"cd89a462-0b27-41a1-8dfc-49a3ac53894a\",\"type\":\"SaveTool\"},{\"id\":\"3c42cb82-ad0f-4f19-a7b7-0ad004e4490e\",\"type\":\"ResetTool\"},{\"id\":\"b3a91d0a-e0d2-4fca-85dc-c5ff43463bd1\",\"type\":\"HelpTool\"}]},\"id\":\"deb1332b-34cc-414a-9685-8030064a2df1\",\"type\":\"Toolbar\"},{\"attributes\":{},\"id\":\"8f62222f-a96d-4e52-b4ed-cb1ea3d589be\",\"type\":\"BasicTickFormatter\"}],\"root_ids\":[\"252c9c0f-7825-4cd1-a2f1-d873315fba23\"]},\"title\":\"Bokeh Application\",\"version\":\"0.12.0\"}};\n",
       "            var render_items = [{\"docid\":\"f0215c30-9e3c-4c3a-ac8f-edda01b314eb\",\"elementid\":\"17673839-f7d0-4bfe-8c25-5ae21304de58\",\"modelid\":\"252c9c0f-7825-4cd1-a2f1-d873315fba23\",\"notebook_comms_target\":\"d9949f78-3927-4b24-b87a-2639f59263e2\"}];\n",
       "            \n",
       "            Bokeh.embed.embed_items(docs_json, render_items);\n",
       "        });\n",
       "      },\n",
       "      function(Bokeh) {\n",
       "      }\n",
       "    ];\n",
       "  \n",
       "    function run_inline_js() {\n",
       "      for (var i = 0; i < inline_js.length; i++) {\n",
       "        inline_js[i](window.Bokeh);\n",
       "      }\n",
       "    }\n",
       "  \n",
       "    if (window._bokeh_is_loading === 0) {\n",
       "      console.log(\"Bokeh: BokehJS loaded, going straight to plotting\");\n",
       "      run_inline_js();\n",
       "    } else {\n",
       "      load_libs(js_urls, function() {\n",
       "        console.log(\"Bokeh: BokehJS plotting callback run at\", now());\n",
       "        run_inline_js();\n",
       "      });\n",
       "    }\n",
       "  }(this));\n",
       "</script>"
      ]
     },
     "metadata": {},
     "output_type": "display_data"
    },
    {
     "data": {
      "text/html": [
       "<p><code>&lt;Bokeh Notebook handle for <strong>In[6]</strong>&gt;</code></p>"
      ],
      "text/plain": [
       "<bokeh.io._CommsHandle at 0x7f59d076a550>"
      ]
     },
     "execution_count": 6,
     "metadata": {},
     "output_type": "execute_result"
    }
   ],
   "source": [
    "from bokeh.charts import Donut\n",
    "\n",
    "URL_EXIST = ['exist-url', 'no-url']\n",
    "\n",
    "url_exist_dict = dict(data=url_to_nourl, label=URL_EXIST)\n",
    "\n",
    "url_exist_donut = Donut(url_exist_dict, values='data', label='label', \n",
    "                        text_font_size='8pt', hover_text='label')\n",
    "\n",
    "show(url_exist_donut)"
   ]
  },
  {
   "cell_type": "markdown",
   "metadata": {},
   "source": [
    "## (f) Box chart of tweet count of twitter in month"
   ]
  },
  {
   "cell_type": "code",
   "execution_count": 7,
   "metadata": {
    "collapsed": false,
    "scrolled": false
   },
   "outputs": [
    {
     "data": {
      "text/html": [
       "\n",
       "\n",
       "    <div class=\"bk-root\">\n",
       "        <div class=\"plotdiv\" id=\"e2b24f38-d602-455b-a970-d6d76a175db2\"></div>\n",
       "    </div>\n",
       "<script type=\"text/javascript\">\n",
       "  \n",
       "  (function(global) {\n",
       "    function now() {\n",
       "      return new Date();\n",
       "    }\n",
       "  \n",
       "    if (typeof (window._bokeh_onload_callbacks) === \"undefined\") {\n",
       "      window._bokeh_onload_callbacks = [];\n",
       "    }\n",
       "  \n",
       "    function run_callbacks() {\n",
       "      window._bokeh_onload_callbacks.forEach(function(callback) { callback() });\n",
       "      delete window._bokeh_onload_callbacks\n",
       "      console.info(\"Bokeh: all callbacks have finished\");\n",
       "    }\n",
       "  \n",
       "    function load_libs(js_urls, callback) {\n",
       "      window._bokeh_onload_callbacks.push(callback);\n",
       "      if (window._bokeh_is_loading > 0) {\n",
       "        console.log(\"Bokeh: BokehJS is being loaded, scheduling callback at\", now());\n",
       "        return null;\n",
       "      }\n",
       "      if (js_urls == null || js_urls.length === 0) {\n",
       "        run_callbacks();\n",
       "        return null;\n",
       "      }\n",
       "      console.log(\"Bokeh: BokehJS not loaded, scheduling load and callback at\", now());\n",
       "      window._bokeh_is_loading = js_urls.length;\n",
       "      for (var i = 0; i < js_urls.length; i++) {\n",
       "        var url = js_urls[i];\n",
       "        var s = document.createElement('script');\n",
       "        s.src = url;\n",
       "        s.async = false;\n",
       "        s.onreadystatechange = s.onload = function() {\n",
       "          window._bokeh_is_loading--;\n",
       "          if (window._bokeh_is_loading === 0) {\n",
       "            console.log(\"Bokeh: all BokehJS libraries loaded\");\n",
       "            run_callbacks()\n",
       "          }\n",
       "        };\n",
       "        s.onerror = function() {\n",
       "          console.warn(\"failed to load library \" + url);\n",
       "        };\n",
       "        console.log(\"Bokeh: injecting script tag for BokehJS library: \", url);\n",
       "        document.getElementsByTagName(\"head\")[0].appendChild(s);\n",
       "      }\n",
       "    };var element = document.getElementById(\"e2b24f38-d602-455b-a970-d6d76a175db2\");\n",
       "    if (element == null) {\n",
       "      console.log(\"Bokeh: ERROR: autoload.js configured with elementid 'e2b24f38-d602-455b-a970-d6d76a175db2' but no matching script tag was found. \")\n",
       "      return false;\n",
       "    }\n",
       "  \n",
       "    var js_urls = [];\n",
       "  \n",
       "    var inline_js = [\n",
       "      function(Bokeh) {\n",
       "        Bokeh.$(function() {\n",
       "            var docs_json = {\"1516d1d3-4f15-42f8-9893-d426df2fd5b7\":{\"roots\":{\"references\":[{\"attributes\":{\"callback\":null,\"column_names\":[\"line_color\",\"line_alpha\",\"color\",\"fill_alpha\",\"height\",\"width\",\"y\",\"x\",\"label\"],\"data\":{\"chart_index\":[{\"label\":\"May\"}],\"color\":[\"#407ee7\"],\"fill_alpha\":[0.8],\"height\":[0.5],\"label\":[\"May\"],\"line_alpha\":[1.0],\"line_color\":[\"black\"],\"width\":[0.8],\"x\":[\"May\"],\"y\":[1.75]}},\"id\":\"5c99f86a-48e6-4339-9a73-c8f3864fd7a7\",\"type\":\"ColumnDataSource\"},{\"attributes\":{\"callback\":null,\"column_names\":[\"x0s\",\"y0s\",\"x1s\",\"y1s\"],\"data\":{\"chart_index\":[{\"label\":\"May\"},{\"label\":\"May\"},{\"label\":\"May\"},{\"label\":\"May\"}],\"label\":[\"May\",\"May\",\"May\",\"May\"],\"x0s\":[\"May:0.5\",\"May:0.65\",\"May:0.5\",\"May:0.65\"],\"x1s\":[\"May:0.5\",\"May:0.35\",\"May:0.5\",\"May:0.35\"],\"y0s\":[1.0,1.0,2.0,3.0],\"y1s\":[1.0,1.0,3.0,3.0]}},\"id\":\"b9177e47-2b5c-4fed-88eb-c639c4de1304\",\"type\":\"ColumnDataSource\"},{\"attributes\":{\"callback\":null,\"column_names\":[\"line_color\",\"line_alpha\",\"color\",\"fill_alpha\",\"height\",\"width\",\"y\",\"x\",\"label\"],\"data\":{\"chart_index\":[{\"label\":\"Feb\"}],\"color\":[\"#df5320\"],\"fill_alpha\":[0.8],\"height\":[1.0],\"label\":[\"Feb\"],\"line_alpha\":[1.0],\"line_color\":[\"black\"],\"width\":[0.8],\"x\":[\"Feb\"],\"y\":[1.5]}},\"id\":\"a65d60ed-68e3-4786-98c7-419d1b342e33\",\"type\":\"ColumnDataSource\"},{\"attributes\":{\"fill_alpha\":{\"field\":\"fill_alpha\"},\"fill_color\":{\"field\":\"color\"},\"height\":{\"field\":\"height\",\"units\":\"data\"},\"line_color\":{\"field\":\"line_color\"},\"width\":{\"field\":\"width\",\"units\":\"data\"},\"x\":{\"field\":\"x\"},\"y\":{\"field\":\"y\"}},\"id\":\"929379b3-4030-4ac8-9729-a104308ccf11\",\"type\":\"Rect\"},{\"attributes\":{\"fill_alpha\":{\"field\":\"fill_alpha\"},\"fill_color\":{\"field\":\"color\"},\"height\":{\"field\":\"height\",\"units\":\"data\"},\"line_color\":{\"field\":\"line_color\"},\"width\":{\"field\":\"width\",\"units\":\"data\"},\"x\":{\"field\":\"x\"},\"y\":{\"field\":\"y\"}},\"id\":\"85df7a98-08ce-4bdd-a12a-a1bd88b45191\",\"type\":\"Rect\"},{\"attributes\":{\"callback\":null,\"column_names\":[\"x0s\",\"y0s\",\"x1s\",\"y1s\"],\"data\":{\"chart_index\":[{\"label\":\"Jul\"},{\"label\":\"Jul\"},{\"label\":\"Jul\"},{\"label\":\"Jul\"}],\"label\":[\"Jul\",\"Jul\",\"Jul\",\"Jul\"],\"x0s\":[\"Jul:0.5\",\"Jul:0.65\",\"Jul:0.5\",\"Jul:0.65\"],\"x1s\":[\"Jul:0.5\",\"Jul:0.35\",\"Jul:0.5\",\"Jul:0.35\"],\"y0s\":[1.0,1.0,2.0,3.0],\"y1s\":[1.0,1.0,3.0,3.0]}},\"id\":\"9044bf0d-bf3b-4eac-8641-ec3cb5f5aa94\",\"type\":\"ColumnDataSource\"},{\"attributes\":{\"callback\":null,\"column_names\":[\"x0s\",\"y0s\",\"x1s\",\"y1s\"],\"data\":{\"chart_index\":[{\"label\":\"Mar\"},{\"label\":\"Mar\"},{\"label\":\"Mar\"},{\"label\":\"Mar\"}],\"label\":[\"Mar\",\"Mar\",\"Mar\",\"Mar\"],\"x0s\":[\"Mar:0.5\",\"Mar:0.65\",\"Mar:0.5\",\"Mar:0.65\"],\"x1s\":[\"Mar:0.5\",\"Mar:0.35\",\"Mar:0.5\",\"Mar:0.35\"],\"y0s\":[1.0,1.0,1.75,2.875],\"y1s\":[1.0,1.0,2.875,2.875]}},\"id\":\"e230db01-e4e6-4e80-ba70-1f591ae0dbbd\",\"type\":\"ColumnDataSource\"},{\"attributes\":{\"fill_alpha\":{\"value\":0.7},\"fill_color\":{\"value\":\"red\"},\"line_color\":{\"value\":\"red\"},\"size\":{\"units\":\"screen\",\"value\":5},\"x\":{\"field\":\"x_values\"},\"y\":{\"field\":\"y_values\"}},\"id\":\"be94bbf7-4dfd-4103-971a-f31d0b28be5c\",\"type\":\"Circle\"},{\"attributes\":{\"fill_alpha\":{\"field\":\"fill_alpha\"},\"fill_color\":{\"field\":\"color\"},\"height\":{\"field\":\"height\",\"units\":\"data\"},\"line_color\":{\"field\":\"line_color\"},\"width\":{\"field\":\"width\",\"units\":\"data\"},\"x\":{\"field\":\"x\"},\"y\":{\"field\":\"y\"}},\"id\":\"3cd77846-cecd-432f-827a-dc86c5eb0679\",\"type\":\"Rect\"},{\"attributes\":{\"callback\":null,\"column_names\":[\"x_values\",\"y_values\"],\"data\":{\"chart_index\":[{\"label\":\"Apr\"}],\"label\":[\"Apr\"],\"x_values\":[\"Apr:0.5\"],\"y_values\":[4]}},\"id\":\"670c7b8e-8918-40db-9900-21b0feef40b5\",\"type\":\"ColumnDataSource\"},{\"attributes\":{\"callback\":null,\"column_names\":[\"line_color\",\"line_alpha\",\"color\",\"fill_alpha\",\"height\",\"width\",\"y\",\"x\",\"label\"],\"data\":{\"chart_index\":[{\"label\":\"Aug\"}],\"color\":[\"#5ab738\"],\"fill_alpha\":[0.8],\"height\":[0.0],\"label\":[\"Aug\"],\"line_alpha\":[1.0],\"line_color\":[\"black\"],\"width\":[0.8],\"x\":[\"Aug\"],\"y\":[1.0]}},\"id\":\"b6837772-47d2-4452-b955-9c91285477fb\",\"type\":\"ColumnDataSource\"},{\"attributes\":{\"callback\":null,\"column_names\":[\"x_values\",\"y_values\"],\"data\":{\"chart_index\":[{\"label\":\"Nov\"}],\"label\":[\"Nov\"],\"x_values\":[\"Nov:0.5\"],\"y_values\":[8]}},\"id\":\"534f917c-0c9c-4506-bbf8-59aa90ec5e60\",\"type\":\"ColumnDataSource\"},{\"attributes\":{\"callback\":null,\"column_names\":[\"x_values\",\"y_values\"],\"data\":{\"chart_index\":[{\"label\":\"Oct\"},{\"label\":\"Oct\"},{\"label\":\"Oct\"},{\"label\":\"Oct\"},{\"label\":\"Oct\"}],\"label\":[\"Oct\",\"Oct\",\"Oct\",\"Oct\",\"Oct\"],\"x_values\":[\"Oct:0.5\",\"Oct:0.5\",\"Oct:0.5\",\"Oct:0.5\",\"Oct:0.5\"],\"y_values\":[10,9,6,4,3]}},\"id\":\"64e2b8cc-61c0-4fa3-a828-35d5464ce2bd\",\"type\":\"ColumnDataSource\"},{\"attributes\":{\"dimension\":1,\"plot\":{\"id\":\"c59b745a-c991-461a-971a-9918a5d9a975\",\"subtype\":\"Chart\",\"type\":\"Plot\"},\"ticker\":{\"id\":\"139b6909-d750-4b9b-8dc1-8948dfae815f\",\"type\":\"BasicTicker\"}},\"id\":\"35a902c9-f360-4901-8b16-4dcd7306da81\",\"type\":\"Grid\"},{\"attributes\":{\"data_source\":{\"id\":\"9ff587a6-f0c4-4773-bc03-2aca7bf684fe\",\"type\":\"ColumnDataSource\"},\"glyph\":{\"id\":\"8889eef2-c0ee-41e6-9886-c33ee710d1dd\",\"type\":\"Rect\"},\"hover_glyph\":null,\"nonselection_glyph\":null,\"selection_glyph\":null},\"id\":\"bbeaacd3-3ef5-4c52-87d8-a7a908d52c19\",\"type\":\"GlyphRenderer\"},{\"attributes\":{},\"id\":\"68e59c24-0755-4f14-89df-77786159f540\",\"type\":\"CategoricalTickFormatter\"},{\"attributes\":{\"data_source\":{\"id\":\"5c14d46b-6fc2-4c6b-b146-76ad79f2f71d\",\"type\":\"ColumnDataSource\"},\"glyph\":{\"id\":\"c8e33df6-e698-402e-ae0c-bd664d227b92\",\"type\":\"Segment\"},\"hover_glyph\":null,\"nonselection_glyph\":null,\"selection_glyph\":null},\"id\":\"a11650b3-1bc9-41f6-8536-7fed55848894\",\"type\":\"GlyphRenderer\"},{\"attributes\":{\"data_source\":{\"id\":\"c7c632b9-f34e-4d09-ab6e-29b0a9b6a306\",\"type\":\"ColumnDataSource\"},\"glyph\":{\"id\":\"cf4e2eaf-e1b5-4f98-bc1c-e02a2412c5cf\",\"type\":\"Rect\"},\"hover_glyph\":null,\"nonselection_glyph\":null,\"selection_glyph\":null},\"id\":\"f23dd5b9-6bc7-4aaf-a675-6dd5ff8cf99c\",\"type\":\"GlyphRenderer\"},{\"attributes\":{\"data_source\":{\"id\":\"670c7b8e-8918-40db-9900-21b0feef40b5\",\"type\":\"ColumnDataSource\"},\"glyph\":{\"id\":\"8ddf5584-d4fb-42e9-9040-71e0d2335582\",\"type\":\"Circle\"},\"hover_glyph\":null,\"nonselection_glyph\":null,\"selection_glyph\":null},\"id\":\"df8e7d4b-6f51-4e26-a92e-69cdcdde5d9a\",\"type\":\"GlyphRenderer\"},{\"attributes\":{\"callback\":null,\"factors\":[\"Jan\",\"Feb\",\"Mar\",\"Apr\",\"May\",\"Jun\",\"Jul\",\"Aug\",\"Sep\",\"Oct\",\"Nov\",\"Dec\"]},\"id\":\"8aa655ea-678a-4b37-8b6d-132336c3941f\",\"type\":\"FactorRange\"},{\"attributes\":{\"bottom_units\":\"screen\",\"fill_alpha\":{\"value\":0.5},\"fill_color\":{\"value\":\"lightgrey\"},\"left_units\":\"screen\",\"level\":\"overlay\",\"line_alpha\":{\"value\":1.0},\"line_color\":{\"value\":\"black\"},\"line_dash\":[4,4],\"line_width\":{\"value\":2},\"plot\":null,\"render_mode\":\"css\",\"right_units\":\"screen\",\"top_units\":\"screen\"},\"id\":\"ef1b8807-1d3b-46a7-8e65-93e548394045\",\"type\":\"BoxAnnotation\"},{\"attributes\":{\"data_source\":{\"id\":\"dbde91c5-d533-47fc-8621-fc92be6db3d7\",\"type\":\"ColumnDataSource\"},\"glyph\":{\"id\":\"7987738f-b7a0-4f09-ad1b-ecddd7fb4002\",\"type\":\"Rect\"},\"hover_glyph\":null,\"nonselection_glyph\":null,\"selection_glyph\":null},\"id\":\"1b2dd858-c43c-47c3-92c3-f9b30f4615d8\",\"type\":\"GlyphRenderer\"},{\"attributes\":{\"data_source\":{\"id\":\"48a97147-6268-4421-b2cf-41b153643c4a\",\"type\":\"ColumnDataSource\"},\"glyph\":{\"id\":\"ae7980c9-0910-4c4e-8543-fbe8ecf036bd\",\"type\":\"Segment\"},\"hover_glyph\":null,\"nonselection_glyph\":null,\"selection_glyph\":null},\"id\":\"787b59bf-55e9-40fa-add0-7ac6acff06bb\",\"type\":\"GlyphRenderer\"},{\"attributes\":{\"fill_alpha\":{\"field\":\"fill_alpha\"},\"fill_color\":{\"field\":\"color\"},\"height\":{\"field\":\"height\",\"units\":\"data\"},\"line_color\":{\"field\":\"line_color\"},\"width\":{\"field\":\"width\",\"units\":\"data\"},\"x\":{\"field\":\"x\"},\"y\":{\"field\":\"y\"}},\"id\":\"06037ed2-d0da-42a8-b3f1-ba1928b743cf\",\"type\":\"Rect\"},{\"attributes\":{\"callback\":null,\"column_names\":[\"x_values\",\"y_values\"],\"data\":{\"chart_index\":[{\"label\":\"Jun\"},{\"label\":\"Jun\"}],\"label\":[\"Jun\",\"Jun\"],\"x_values\":[\"Jun:0.5\",\"Jun:0.5\"],\"y_values\":[4,2]}},\"id\":\"02d4a4de-4b7d-4ba1-8b38-abcd9143e9e9\",\"type\":\"ColumnDataSource\"},{\"attributes\":{\"line_width\":{\"value\":2},\"x0\":{\"field\":\"x0s\"},\"x1\":{\"field\":\"x1s\"},\"y0\":{\"field\":\"y0s\"},\"y1\":{\"field\":\"y1s\"}},\"id\":\"c5241b85-6790-4386-ae93-6ee8464186f7\",\"type\":\"Segment\"},{\"attributes\":{\"data_source\":{\"id\":\"3a2ef831-624c-4326-97f6-7b538b57ea79\",\"type\":\"ColumnDataSource\"},\"glyph\":{\"id\":\"d4eab521-a2d4-4491-b4c7-2e242fc797e1\",\"type\":\"Rect\"},\"hover_glyph\":null,\"nonselection_glyph\":null,\"selection_glyph\":null},\"id\":\"5c5ab017-2629-4031-a328-e7e775e864ce\",\"type\":\"GlyphRenderer\"},{\"attributes\":{\"callback\":null,\"column_names\":[\"x0s\",\"y0s\",\"x1s\",\"y1s\"],\"data\":{\"chart_index\":[{\"label\":\"Feb\"},{\"label\":\"Feb\"},{\"label\":\"Feb\"},{\"label\":\"Feb\"}],\"label\":[\"Feb\",\"Feb\",\"Feb\",\"Feb\"],\"x0s\":[\"Feb:0.5\",\"Feb:0.65\",\"Feb:0.5\",\"Feb:0.65\"],\"x1s\":[\"Feb:0.5\",\"Feb:0.35\",\"Feb:0.5\",\"Feb:0.35\"],\"y0s\":[1.0,1.0,2.0,3.5],\"y1s\":[1.0,1.0,3.5,3.5]}},\"id\":\"48a97147-6268-4421-b2cf-41b153643c4a\",\"type\":\"ColumnDataSource\"},{\"attributes\":{\"data_source\":{\"id\":\"b123f43d-0ca4-4f74-98b3-b99e2e58f40d\",\"type\":\"ColumnDataSource\"},\"glyph\":{\"id\":\"4aaa4525-a93f-4216-8788-4285a8635420\",\"type\":\"Rect\"},\"hover_glyph\":null,\"nonselection_glyph\":null,\"selection_glyph\":null},\"id\":\"86aaa10b-dfa4-40bf-b646-67229b994e67\",\"type\":\"GlyphRenderer\"},{\"attributes\":{\"data_source\":{\"id\":\"b008b244-038a-43bd-b512-a21df406b4e7\",\"type\":\"ColumnDataSource\"},\"glyph\":{\"id\":\"929379b3-4030-4ac8-9729-a104308ccf11\",\"type\":\"Rect\"},\"hover_glyph\":null,\"nonselection_glyph\":null,\"selection_glyph\":null},\"id\":\"f19efad7-454f-4092-b0c0-004cb1e1bc3f\",\"type\":\"GlyphRenderer\"},{\"attributes\":{\"callback\":null,\"column_names\":[\"line_color\",\"line_alpha\",\"color\",\"fill_alpha\",\"height\",\"width\",\"y\",\"x\",\"label\"],\"data\":{\"chart_index\":[{\"label\":\"Jun\"}],\"color\":[\"#f22c40\"],\"fill_alpha\":[0.8],\"height\":[0.0],\"label\":[\"Jun\"],\"line_alpha\":[1.0],\"line_color\":[\"black\"],\"width\":[0.8],\"x\":[\"Jun\"],\"y\":[1.0]}},\"id\":\"ebc6bc4c-a863-4483-a13a-6434f97f52c4\",\"type\":\"ColumnDataSource\"},{\"attributes\":{\"callback\":null,\"column_names\":[\"line_color\",\"line_alpha\",\"color\",\"fill_alpha\",\"height\",\"width\",\"y\",\"x\",\"label\"],\"data\":{\"chart_index\":[{\"label\":\"Aug\"}],\"color\":[\"#5ab738\"],\"fill_alpha\":[0.8],\"height\":[1.0],\"label\":[\"Aug\"],\"line_alpha\":[1.0],\"line_color\":[\"black\"],\"width\":[0.8],\"x\":[\"Aug\"],\"y\":[1.5]}},\"id\":\"c7c632b9-f34e-4d09-ab6e-29b0a9b6a306\",\"type\":\"ColumnDataSource\"},{\"attributes\":{\"callback\":null,\"column_names\":[\"x_values\",\"y_values\"],\"data\":{\"chart_index\":[{\"label\":\"Dec\"}],\"label\":[\"Dec\"],\"x_values\":[\"Dec:0.5\"],\"y_values\":[4]}},\"id\":\"bd4e0a47-1501-479e-abb2-eb312ada177d\",\"type\":\"ColumnDataSource\"},{\"attributes\":{\"data_source\":{\"id\":\"6f24ae56-085f-4e7b-9d82-6991e2e858de\",\"type\":\"ColumnDataSource\"},\"glyph\":{\"id\":\"154d8367-a2d5-428b-b404-b1a4644ef055\",\"type\":\"Circle\"},\"hover_glyph\":null,\"nonselection_glyph\":null,\"selection_glyph\":null},\"id\":\"81129332-4bfe-4a66-91ea-c0d52d6442b8\",\"type\":\"GlyphRenderer\"},{\"attributes\":{\"fill_alpha\":{\"value\":0.7},\"fill_color\":{\"value\":\"red\"},\"line_color\":{\"value\":\"red\"},\"size\":{\"units\":\"screen\",\"value\":5},\"x\":{\"field\":\"x_values\"},\"y\":{\"field\":\"y_values\"}},\"id\":\"154d8367-a2d5-428b-b404-b1a4644ef055\",\"type\":\"Circle\"},{\"attributes\":{\"fill_alpha\":{\"value\":0.7},\"fill_color\":{\"value\":\"red\"},\"line_color\":{\"value\":\"red\"},\"size\":{\"units\":\"screen\",\"value\":5},\"x\":{\"field\":\"x_values\"},\"y\":{\"field\":\"y_values\"}},\"id\":\"b67e2297-7c3d-4de3-9727-d7e632b55b1d\",\"type\":\"Circle\"},{\"attributes\":{\"fill_alpha\":{\"field\":\"fill_alpha\"},\"fill_color\":{\"field\":\"color\"},\"height\":{\"field\":\"height\",\"units\":\"data\"},\"line_color\":{\"field\":\"line_color\"},\"width\":{\"field\":\"width\",\"units\":\"data\"},\"x\":{\"field\":\"x\"},\"y\":{\"field\":\"y\"}},\"id\":\"6a70a068-b78c-4b31-a1b4-82289c79ed1b\",\"type\":\"Rect\"},{\"attributes\":{\"data_source\":{\"id\":\"4a6b9e56-b10b-446c-9b61-e5681ff49485\",\"type\":\"ColumnDataSource\"},\"glyph\":{\"id\":\"b2fe3719-ec16-48f5-9cad-1710753ff566\",\"type\":\"Rect\"},\"hover_glyph\":null,\"nonselection_glyph\":null,\"selection_glyph\":null},\"id\":\"6811607d-82dd-4d07-b083-5ae6b16315a5\",\"type\":\"GlyphRenderer\"},{\"attributes\":{\"callback\":null,\"column_names\":[\"x_values\",\"y_values\"],\"data\":{\"chart_index\":[{\"label\":\"Sep\"},{\"label\":\"Sep\"},{\"label\":\"Sep\"},{\"label\":\"Sep\"}],\"label\":[\"Sep\",\"Sep\",\"Sep\",\"Sep\"],\"x_values\":[\"Sep:0.5\",\"Sep:0.5\",\"Sep:0.5\",\"Sep:0.5\"],\"y_values\":[6,5,5,4]}},\"id\":\"ca18b11a-5785-45f6-93dd-f22013904479\",\"type\":\"ColumnDataSource\"},{\"attributes\":{\"line_width\":{\"value\":2},\"x0\":{\"field\":\"x0s\"},\"x1\":{\"field\":\"x1s\"},\"y0\":{\"field\":\"y0s\"},\"y1\":{\"field\":\"y1s\"}},\"id\":\"c8e33df6-e698-402e-ae0c-bd664d227b92\",\"type\":\"Segment\"},{\"attributes\":{\"data_source\":{\"id\":\"fc8833bb-f319-43b8-b4a6-707bbe027912\",\"type\":\"ColumnDataSource\"},\"glyph\":{\"id\":\"4e5939c0-d1d7-45c4-a10f-255e07a98c28\",\"type\":\"Rect\"},\"hover_glyph\":null,\"nonselection_glyph\":null,\"selection_glyph\":null},\"id\":\"cd326114-23b5-4530-ac40-c676fce1fd8f\",\"type\":\"GlyphRenderer\"},{\"attributes\":{\"callback\":null,\"column_names\":[\"x0s\",\"y0s\",\"x1s\",\"y1s\"],\"data\":{\"chart_index\":[{\"label\":\"Jan\"},{\"label\":\"Jan\"},{\"label\":\"Jan\"},{\"label\":\"Jan\"}],\"label\":[\"Jan\",\"Jan\",\"Jan\",\"Jan\"],\"x0s\":[\"Jan:0.5\",\"Jan:0.65\",\"Jan:0.5\",\"Jan:0.65\"],\"x1s\":[\"Jan:0.5\",\"Jan:0.35\",\"Jan:0.5\",\"Jan:0.35\"],\"y0s\":[1.0,1.0,2.0,2.0],\"y1s\":[1.5,1.0,2.0,2.0]}},\"id\":\"0ab2e46e-c201-44b6-8c63-5821bf9b59e9\",\"type\":\"ColumnDataSource\"},{\"attributes\":{\"plot\":{\"id\":\"c59b745a-c991-461a-971a-9918a5d9a975\",\"subtype\":\"Chart\",\"type\":\"Plot\"}},\"id\":\"d88e8607-a6d2-4d52-97d5-c20d5768ab00\",\"type\":\"WheelZoomTool\"},{\"attributes\":{\"data_source\":{\"id\":\"62ff9abf-23d3-4e50-990a-55e6ba7ced11\",\"type\":\"ColumnDataSource\"},\"glyph\":{\"id\":\"85df7a98-08ce-4bdd-a12a-a1bd88b45191\",\"type\":\"Rect\"},\"hover_glyph\":null,\"nonselection_glyph\":null,\"selection_glyph\":null},\"id\":\"593f5dc4-2a88-4d2c-9315-0a3ca09e2dac\",\"type\":\"GlyphRenderer\"},{\"attributes\":{\"data_source\":{\"id\":\"0b7120c9-37e9-4260-a726-75c121c69a1f\",\"type\":\"ColumnDataSource\"},\"glyph\":{\"id\":\"90092daf-fdee-47a1-af11-90d80ad704be\",\"type\":\"Rect\"},\"hover_glyph\":null,\"nonselection_glyph\":null,\"selection_glyph\":null},\"id\":\"78593512-bab9-44bc-bb10-716408524b9a\",\"type\":\"GlyphRenderer\"},{\"attributes\":{\"callback\":null,\"column_names\":[\"x0s\",\"y0s\",\"x1s\",\"y1s\"],\"data\":{\"chart_index\":[{\"label\":\"Sep\"},{\"label\":\"Sep\"},{\"label\":\"Sep\"},{\"label\":\"Sep\"}],\"label\":[\"Sep\",\"Sep\",\"Sep\",\"Sep\"],\"x0s\":[\"Sep:0.5\",\"Sep:0.65\",\"Sep:0.5\",\"Sep:0.65\"],\"x1s\":[\"Sep:0.5\",\"Sep:0.35\",\"Sep:0.5\",\"Sep:0.35\"],\"y0s\":[1.0,1.0,2.0,3.5],\"y1s\":[1.0,1.0,3.5,3.5]}},\"id\":\"5c14d46b-6fc2-4c6b-b146-76ad79f2f71d\",\"type\":\"ColumnDataSource\"},{\"attributes\":{\"callback\":null,\"column_names\":[\"line_color\",\"line_alpha\",\"color\",\"fill_alpha\",\"height\",\"width\",\"y\",\"x\",\"label\"],\"data\":{\"chart_index\":[{\"label\":\"Mar\"}],\"color\":[\"#5ab738\"],\"fill_alpha\":[0.8],\"height\":[0.75],\"label\":[\"Mar\"],\"line_alpha\":[1.0],\"line_color\":[\"black\"],\"width\":[0.8],\"x\":[\"Mar\"],\"y\":[1.375]}},\"id\":\"7a511078-82f9-492b-9e04-760f052eb32c\",\"type\":\"ColumnDataSource\"},{\"attributes\":{\"callback\":null,\"column_names\":[\"line_color\",\"line_alpha\",\"color\",\"fill_alpha\",\"height\",\"width\",\"y\",\"x\",\"label\"],\"data\":{\"chart_index\":[{\"label\":\"Dec\"}],\"color\":[\"#407ee7\"],\"fill_alpha\":[0.8],\"height\":[0.5],\"label\":[\"Dec\"],\"line_alpha\":[1.0],\"line_color\":[\"black\"],\"width\":[0.8],\"x\":[\"Dec\"],\"y\":[1.75]}},\"id\":\"b123f43d-0ca4-4f74-98b3-b99e2e58f40d\",\"type\":\"ColumnDataSource\"},{\"attributes\":{\"callback\":null,\"column_names\":[\"line_color\",\"line_alpha\",\"color\",\"fill_alpha\",\"height\",\"width\",\"y\",\"x\",\"label\"],\"data\":{\"chart_index\":[{\"label\":\"Oct\"}],\"color\":[\"#00ad9c\"],\"fill_alpha\":[0.8],\"height\":[0.5],\"label\":[\"Oct\"],\"line_alpha\":[1.0],\"line_color\":[\"black\"],\"width\":[0.8],\"x\":[\"Oct\"],\"y\":[1.25]}},\"id\":\"3a2ef831-624c-4326-97f6-7b538b57ea79\",\"type\":\"ColumnDataSource\"},{\"attributes\":{\"callback\":null,\"column_names\":[\"line_color\",\"line_alpha\",\"color\",\"fill_alpha\",\"height\",\"width\",\"y\",\"x\",\"label\"],\"data\":{\"chart_index\":[{\"label\":\"Sep\"}],\"color\":[\"#c33ff3\"],\"fill_alpha\":[0.8],\"height\":[1.0],\"label\":[\"Sep\"],\"line_alpha\":[1.0],\"line_color\":[\"black\"],\"width\":[0.8],\"x\":[\"Sep\"],\"y\":[1.5]}},\"id\":\"9ff587a6-f0c4-4773-bc03-2aca7bf684fe\",\"type\":\"ColumnDataSource\"},{\"attributes\":{\"overlay\":{\"id\":\"ef1b8807-1d3b-46a7-8e65-93e548394045\",\"type\":\"BoxAnnotation\"},\"plot\":{\"id\":\"c59b745a-c991-461a-971a-9918a5d9a975\",\"subtype\":\"Chart\",\"type\":\"Plot\"}},\"id\":\"b6709fbf-6b63-405c-b692-d9ec00fc0289\",\"type\":\"BoxZoomTool\"},{\"attributes\":{\"fill_alpha\":{\"field\":\"fill_alpha\"},\"fill_color\":{\"field\":\"color\"},\"height\":{\"field\":\"height\",\"units\":\"data\"},\"line_color\":{\"field\":\"line_color\"},\"width\":{\"field\":\"width\",\"units\":\"data\"},\"x\":{\"field\":\"x\"},\"y\":{\"field\":\"y\"}},\"id\":\"95650563-ab61-4af0-afbd-f6dbcd8eb552\",\"type\":\"Rect\"},{\"attributes\":{\"fill_alpha\":{\"field\":\"fill_alpha\"},\"fill_color\":{\"field\":\"color\"},\"height\":{\"field\":\"height\",\"units\":\"data\"},\"line_color\":{\"field\":\"line_color\"},\"width\":{\"field\":\"width\",\"units\":\"data\"},\"x\":{\"field\":\"x\"},\"y\":{\"field\":\"y\"}},\"id\":\"bbb2da16-818c-4e2b-8366-d0ec583571e6\",\"type\":\"Rect\"},{\"attributes\":{\"fill_alpha\":{\"value\":0.7},\"fill_color\":{\"value\":\"red\"},\"line_color\":{\"value\":\"red\"},\"size\":{\"units\":\"screen\",\"value\":5},\"x\":{\"field\":\"x_values\"},\"y\":{\"field\":\"y_values\"}},\"id\":\"02b49caf-2190-46f3-9c43-46d765f0f84c\",\"type\":\"Circle\"},{\"attributes\":{\"axis_label\":\"tweets\",\"formatter\":{\"id\":\"f258b071-8165-4cb8-894e-408125d65eae\",\"type\":\"BasicTickFormatter\"},\"plot\":{\"id\":\"c59b745a-c991-461a-971a-9918a5d9a975\",\"subtype\":\"Chart\",\"type\":\"Plot\"},\"ticker\":{\"id\":\"139b6909-d750-4b9b-8dc1-8948dfae815f\",\"type\":\"BasicTicker\"}},\"id\":\"bc0b0218-7824-4a09-a265-61959282c01f\",\"type\":\"LinearAxis\"},{\"attributes\":{\"callback\":null,\"column_names\":[\"line_color\",\"line_alpha\",\"color\",\"fill_alpha\",\"height\",\"width\",\"y\",\"x\",\"label\"],\"data\":{\"chart_index\":[{\"label\":\"Jul\"}],\"color\":[\"#c33ff3\"],\"fill_alpha\":[0.8],\"height\":[0.5],\"label\":[\"Jul\"],\"line_alpha\":[1.0],\"line_color\":[\"black\"],\"width\":[0.8],\"x\":[\"Jul\"],\"y\":[1.75]}},\"id\":\"f61a2cd1-9310-413e-b71d-b526096e9f38\",\"type\":\"ColumnDataSource\"},{\"attributes\":{\"plot\":null,\"text\":\"twitter tweets\"},\"id\":\"4e949312-6308-4c64-b79e-7651cf3584e7\",\"type\":\"Title\"},{\"attributes\":{\"callback\":null,\"column_names\":[\"line_color\",\"line_alpha\",\"color\",\"fill_alpha\",\"height\",\"width\",\"y\",\"x\",\"label\"],\"data\":{\"chart_index\":[{\"label\":\"Jun\"}],\"color\":[\"#f22c40\"],\"fill_alpha\":[0.8],\"height\":[0.0],\"label\":[\"Jun\"],\"line_alpha\":[1.0],\"line_color\":[\"black\"],\"width\":[0.8],\"x\":[\"Jun\"],\"y\":[1.0]}},\"id\":\"62ff9abf-23d3-4e50-990a-55e6ba7ced11\",\"type\":\"ColumnDataSource\"},{\"attributes\":{\"callback\":null,\"column_names\":[\"x0s\",\"y0s\",\"x1s\",\"y1s\"],\"data\":{\"chart_index\":[{\"label\":\"Dec\"},{\"label\":\"Dec\"},{\"label\":\"Dec\"},{\"label\":\"Dec\"}],\"label\":[\"Dec\",\"Dec\",\"Dec\",\"Dec\"],\"x0s\":[\"Dec:0.5\",\"Dec:0.65\",\"Dec:0.5\",\"Dec:0.65\"],\"x1s\":[\"Dec:0.5\",\"Dec:0.35\",\"Dec:0.5\",\"Dec:0.35\"],\"y0s\":[1.0,1.0,2.0,3.5],\"y1s\":[1.0,1.0,3.5,3.5]}},\"id\":\"76d6f695-591a-4782-a130-3df5bdecf517\",\"type\":\"ColumnDataSource\"},{\"attributes\":{\"data_source\":{\"id\":\"aff123e3-b16a-445a-959b-a36d2b45d8d6\",\"type\":\"ColumnDataSource\"},\"glyph\":{\"id\":\"aca9df1e-b5c5-4fde-81b4-57cf97be61e4\",\"type\":\"Rect\"},\"hover_glyph\":null,\"nonselection_glyph\":null,\"selection_glyph\":null},\"id\":\"a248aba6-d1f6-4f98-bc99-a6da4c5f059f\",\"type\":\"GlyphRenderer\"},{\"attributes\":{\"data_source\":{\"id\":\"89b298cc-8174-489f-bc07-a3c5b37779e8\",\"type\":\"ColumnDataSource\"},\"glyph\":{\"id\":\"bf893dce-93cb-4652-baa9-0444234f538d\",\"type\":\"Rect\"},\"hover_glyph\":null,\"nonselection_glyph\":null,\"selection_glyph\":null},\"id\":\"92df230c-65ee-42a2-81dc-c388787588a9\",\"type\":\"GlyphRenderer\"},{\"attributes\":{\"callback\":null,\"column_names\":[\"line_color\",\"line_alpha\",\"color\",\"fill_alpha\",\"height\",\"width\",\"y\",\"x\",\"label\"],\"data\":{\"chart_index\":[{\"label\":\"Dec\"}],\"color\":[\"#407ee7\"],\"fill_alpha\":[0.8],\"height\":[0.5],\"label\":[\"Dec\"],\"line_alpha\":[1.0],\"line_color\":[\"black\"],\"width\":[0.8],\"x\":[\"Dec\"],\"y\":[1.25]}},\"id\":\"bf34f903-44c9-4c90-8879-9356e9888517\",\"type\":\"ColumnDataSource\"},{\"attributes\":{},\"id\":\"51908f76-6324-44e2-bfb5-6c100bec254e\",\"type\":\"CategoricalTicker\"},{\"attributes\":{\"data_source\":{\"id\":\"d72cac45-d000-4966-82fe-3ee8cd8a8013\",\"type\":\"ColumnDataSource\"},\"glyph\":{\"id\":\"c5241b85-6790-4386-ae93-6ee8464186f7\",\"type\":\"Segment\"},\"hover_glyph\":null,\"nonselection_glyph\":null,\"selection_glyph\":null},\"id\":\"6d04fbb3-0f25-4700-86dc-3877688b3f83\",\"type\":\"GlyphRenderer\"},{\"attributes\":{\"data_source\":{\"id\":\"5c99f86a-48e6-4339-9a73-c8f3864fd7a7\",\"type\":\"ColumnDataSource\"},\"glyph\":{\"id\":\"583446ce-6431-469c-a292-e8e6f6810404\",\"type\":\"Rect\"},\"hover_glyph\":null,\"nonselection_glyph\":null,\"selection_glyph\":null},\"id\":\"5fd8d2ad-93e4-49a6-88b0-91ba971983e4\",\"type\":\"GlyphRenderer\"},{\"attributes\":{\"data_source\":{\"id\":\"bf34f903-44c9-4c90-8879-9356e9888517\",\"type\":\"ColumnDataSource\"},\"glyph\":{\"id\":\"1ab347e0-10d2-4a2a-9e67-a615d75165c6\",\"type\":\"Rect\"},\"hover_glyph\":null,\"nonselection_glyph\":null,\"selection_glyph\":null},\"id\":\"bf7bf140-9099-4d72-a720-ec8433b479e8\",\"type\":\"GlyphRenderer\"},{\"attributes\":{\"plot\":{\"id\":\"c59b745a-c991-461a-971a-9918a5d9a975\",\"subtype\":\"Chart\",\"type\":\"Plot\"}},\"id\":\"76c86e9d-f6ca-4673-a1fb-59a83552c65e\",\"type\":\"PanTool\"},{\"attributes\":{\"data_source\":{\"id\":\"19665dbe-42a7-43d2-a32f-fafaa199e441\",\"type\":\"ColumnDataSource\"},\"glyph\":{\"id\":\"88778914-74ec-4dc3-a118-069d7674782f\",\"type\":\"Rect\"},\"hover_glyph\":null,\"nonselection_glyph\":null,\"selection_glyph\":null},\"id\":\"bb861289-5a19-494e-9710-4ba0410f87d0\",\"type\":\"GlyphRenderer\"},{\"attributes\":{\"data_source\":{\"id\":\"ca18b11a-5785-45f6-93dd-f22013904479\",\"type\":\"ColumnDataSource\"},\"glyph\":{\"id\":\"16349a6b-65eb-4946-9f9d-22c8905cc178\",\"type\":\"Circle\"},\"hover_glyph\":null,\"nonselection_glyph\":null,\"selection_glyph\":null},\"id\":\"158a6d1d-9ef8-46a4-b8dc-f7601819b9d6\",\"type\":\"GlyphRenderer\"},{\"attributes\":{},\"id\":\"139b6909-d750-4b9b-8dc1-8948dfae815f\",\"type\":\"BasicTicker\"},{\"attributes\":{\"callback\":null,\"column_names\":[\"line_color\",\"line_alpha\",\"color\",\"fill_alpha\",\"height\",\"width\",\"y\",\"x\",\"label\"],\"data\":{\"chart_index\":[{\"label\":\"Apr\"}],\"color\":[\"#f22c40\"],\"fill_alpha\":[0.8],\"height\":[0.0],\"label\":[\"Apr\"],\"line_alpha\":[1.0],\"line_color\":[\"black\"],\"width\":[0.8],\"x\":[\"Apr\"],\"y\":[1.0]}},\"id\":\"fc8833bb-f319-43b8-b4a6-707bbe027912\",\"type\":\"ColumnDataSource\"},{\"attributes\":{\"legends\":[[\"Jan\",[{\"id\":\"6811607d-82dd-4d07-b083-5ae6b16315a5\",\"type\":\"GlyphRenderer\"},{\"id\":\"78593512-bab9-44bc-bb10-716408524b9a\",\"type\":\"GlyphRenderer\"},{\"id\":\"ce4fb693-afbd-4d02-8451-0c2b8204ea74\",\"type\":\"GlyphRenderer\"}]],[\"Feb\",[{\"id\":\"42add9f8-4dc2-44ac-90c4-b4c1a4d081da\",\"type\":\"GlyphRenderer\"},{\"id\":\"e00c094e-b16d-4831-b568-9754fbba2b12\",\"type\":\"GlyphRenderer\"},{\"id\":\"49fc4800-1277-4ce1-a3f0-002b9609cbab\",\"type\":\"GlyphRenderer\"},{\"id\":\"787b59bf-55e9-40fa-add0-7ac6acff06bb\",\"type\":\"GlyphRenderer\"}]],[\"Mar\",[{\"id\":\"b6efa8e7-e7c3-4fd2-8903-14a697f4d5b4\",\"type\":\"GlyphRenderer\"},{\"id\":\"0e9c8bbd-263d-4869-b993-9d05d80b9b80\",\"type\":\"GlyphRenderer\"},{\"id\":\"81129332-4bfe-4a66-91ea-c0d52d6442b8\",\"type\":\"GlyphRenderer\"},{\"id\":\"e8d1adab-5f32-44f1-b580-414729b1bf5e\",\"type\":\"GlyphRenderer\"}]],[\"Apr\",[{\"id\":\"cd326114-23b5-4530-ac40-c676fce1fd8f\",\"type\":\"GlyphRenderer\"},{\"id\":\"1b2dd858-c43c-47c3-92c3-f9b30f4615d8\",\"type\":\"GlyphRenderer\"},{\"id\":\"df8e7d4b-6f51-4e26-a92e-69cdcdde5d9a\",\"type\":\"GlyphRenderer\"},{\"id\":\"6d04fbb3-0f25-4700-86dc-3877688b3f83\",\"type\":\"GlyphRenderer\"}]],[\"May\",[{\"id\":\"92df230c-65ee-42a2-81dc-c388787588a9\",\"type\":\"GlyphRenderer\"},{\"id\":\"5fd8d2ad-93e4-49a6-88b0-91ba971983e4\",\"type\":\"GlyphRenderer\"},{\"id\":\"12daf2fb-a49c-4253-9c52-1ed74758859a\",\"type\":\"GlyphRenderer\"}]],[\"Jun\",[{\"id\":\"593f5dc4-2a88-4d2c-9315-0a3ca09e2dac\",\"type\":\"GlyphRenderer\"},{\"id\":\"d5243c6b-1e57-4c1c-b58c-56a2acc1eb89\",\"type\":\"GlyphRenderer\"},{\"id\":\"b36fcc9e-8523-434a-b70d-79044c999c6d\",\"type\":\"GlyphRenderer\"},{\"id\":\"37cae49b-f0ea-41d7-b2cd-6c862ed86d3a\",\"type\":\"GlyphRenderer\"}]],[\"Jul\",[{\"id\":\"bb861289-5a19-494e-9710-4ba0410f87d0\",\"type\":\"GlyphRenderer\"},{\"id\":\"e45311de-745c-4c92-a78b-1b1a84c4f1ed\",\"type\":\"GlyphRenderer\"},{\"id\":\"c06c7ebe-7480-4c56-8083-ae2a6ce6ab9a\",\"type\":\"GlyphRenderer\"}]],[\"Aug\",[{\"id\":\"471134c3-ebcf-41ff-b6ae-81a2d0af1010\",\"type\":\"GlyphRenderer\"},{\"id\":\"f23dd5b9-6bc7-4aaf-a675-6dd5ff8cf99c\",\"type\":\"GlyphRenderer\"},{\"id\":\"dd0414f4-9576-464c-938d-528dd55dc79b\",\"type\":\"GlyphRenderer\"}]],[\"Sep\",[{\"id\":\"9563f04b-dd7e-43f1-8a54-9614b79c90e6\",\"type\":\"GlyphRenderer\"},{\"id\":\"bbeaacd3-3ef5-4c52-87d8-a7a908d52c19\",\"type\":\"GlyphRenderer\"},{\"id\":\"158a6d1d-9ef8-46a4-b8dc-f7601819b9d6\",\"type\":\"GlyphRenderer\"},{\"id\":\"a11650b3-1bc9-41f6-8536-7fed55848894\",\"type\":\"GlyphRenderer\"}]],[\"Oct\",[{\"id\":\"f19efad7-454f-4092-b0c0-004cb1e1bc3f\",\"type\":\"GlyphRenderer\"},{\"id\":\"5c5ab017-2629-4031-a328-e7e775e864ce\",\"type\":\"GlyphRenderer\"},{\"id\":\"5d4cb325-92de-46a2-9e8b-16d641214930\",\"type\":\"GlyphRenderer\"},{\"id\":\"0fbb6b58-6f8e-4ce6-a99b-4247702489ba\",\"type\":\"GlyphRenderer\"}]],[\"Nov\",[{\"id\":\"a248aba6-d1f6-4f98-bc99-a6da4c5f059f\",\"type\":\"GlyphRenderer\"},{\"id\":\"6ec3ea2d-0a5a-44fe-8a36-a579037f00ff\",\"type\":\"GlyphRenderer\"},{\"id\":\"91271264-fda1-4a5c-944f-b933f0446a8f\",\"type\":\"GlyphRenderer\"},{\"id\":\"b3d8e118-cce8-4dee-b91d-cc4d56203c96\",\"type\":\"GlyphRenderer\"}]],[\"Dec\",[{\"id\":\"bf7bf140-9099-4d72-a720-ec8433b479e8\",\"type\":\"GlyphRenderer\"},{\"id\":\"86aaa10b-dfa4-40bf-b646-67229b994e67\",\"type\":\"GlyphRenderer\"},{\"id\":\"1de20a3f-1fed-4602-a64a-24747d7f9517\",\"type\":\"GlyphRenderer\"},{\"id\":\"3cbccda6-5f76-415a-a5aa-dec81b7ede3e\",\"type\":\"GlyphRenderer\"}]]],\"location\":\"top_left\",\"plot\":{\"id\":\"c59b745a-c991-461a-971a-9918a5d9a975\",\"subtype\":\"Chart\",\"type\":\"Plot\"}},\"id\":\"c6c13d0f-34cb-44c7-9dd1-4dbf9e0767f9\",\"type\":\"Legend\"},{\"attributes\":{\"fill_alpha\":{\"field\":\"fill_alpha\"},\"fill_color\":{\"field\":\"color\"},\"height\":{\"field\":\"height\",\"units\":\"data\"},\"line_color\":{\"field\":\"line_color\"},\"width\":{\"field\":\"width\",\"units\":\"data\"},\"x\":{\"field\":\"x\"},\"y\":{\"field\":\"y\"}},\"id\":\"bf893dce-93cb-4652-baa9-0444234f538d\",\"type\":\"Rect\"},{\"attributes\":{\"callback\":null,\"column_names\":[\"x_values\",\"y_values\"],\"data\":{\"chart_index\":[{\"label\":\"Feb\"}],\"label\":[\"Feb\"],\"x_values\":[\"Feb:0.5\"],\"y_values\":[4]}},\"id\":\"2f756728-57dc-49ad-9fe4-3ea6350f1275\",\"type\":\"ColumnDataSource\"},{\"attributes\":{\"line_width\":{\"value\":2},\"x0\":{\"field\":\"x0s\"},\"x1\":{\"field\":\"x1s\"},\"y0\":{\"field\":\"y0s\"},\"y1\":{\"field\":\"y1s\"}},\"id\":\"92a62805-9b8e-4158-91b4-f4c6084e79a6\",\"type\":\"Segment\"},{\"attributes\":{\"data_source\":{\"id\":\"16e945d3-c6dc-45b6-90b8-c1d909232b91\",\"type\":\"ColumnDataSource\"},\"glyph\":{\"id\":\"ee1ae6ed-35b6-470c-baff-f3defd7d147f\",\"type\":\"Segment\"},\"hover_glyph\":null,\"nonselection_glyph\":null,\"selection_glyph\":null},\"id\":\"0fbb6b58-6f8e-4ce6-a99b-4247702489ba\",\"type\":\"GlyphRenderer\"},{\"attributes\":{\"callback\":null,\"column_names\":[\"line_color\",\"line_alpha\",\"color\",\"fill_alpha\",\"height\",\"width\",\"y\",\"x\",\"label\"],\"data\":{\"chart_index\":[{\"label\":\"Apr\"}],\"color\":[\"#f22c40\"],\"fill_alpha\":[0.8],\"height\":[1.0],\"label\":[\"Apr\"],\"line_alpha\":[1.0],\"line_color\":[\"black\"],\"width\":[0.8],\"x\":[\"Apr\"],\"y\":[1.5]}},\"id\":\"dbde91c5-d533-47fc-8621-fc92be6db3d7\",\"type\":\"ColumnDataSource\"},{\"attributes\":{\"data_source\":{\"id\":\"ef3ecd35-7218-49d3-9063-379f4a4c7d73\",\"type\":\"ColumnDataSource\"},\"glyph\":{\"id\":\"6a70a068-b78c-4b31-a1b4-82289c79ed1b\",\"type\":\"Rect\"},\"hover_glyph\":null,\"nonselection_glyph\":null,\"selection_glyph\":null},\"id\":\"9563f04b-dd7e-43f1-8a54-9614b79c90e6\",\"type\":\"GlyphRenderer\"},{\"attributes\":{\"callback\":null,\"column_names\":[\"line_color\",\"line_alpha\",\"color\",\"fill_alpha\",\"height\",\"width\",\"y\",\"x\",\"label\"],\"data\":{\"chart_index\":[{\"label\":\"May\"}],\"color\":[\"#407ee7\"],\"fill_alpha\":[0.8],\"height\":[0.5],\"label\":[\"May\"],\"line_alpha\":[1.0],\"line_color\":[\"black\"],\"width\":[0.8],\"x\":[\"May\"],\"y\":[1.25]}},\"id\":\"89b298cc-8174-489f-bc07-a3c5b37779e8\",\"type\":\"ColumnDataSource\"},{\"attributes\":{},\"id\":\"8179bc84-3d3e-400f-94da-f08a49c70c9b\",\"type\":\"ToolEvents\"},{\"attributes\":{\"callback\":null,\"column_names\":[\"x0s\",\"y0s\",\"x1s\",\"y1s\"],\"data\":{\"chart_index\":[{\"label\":\"Aug\"},{\"label\":\"Aug\"},{\"label\":\"Aug\"},{\"label\":\"Aug\"}],\"label\":[\"Aug\",\"Aug\",\"Aug\",\"Aug\"],\"x0s\":[\"Aug:0.5\",\"Aug:0.65\",\"Aug:0.5\",\"Aug:0.65\"],\"x1s\":[\"Aug:0.5\",\"Aug:0.35\",\"Aug:0.5\",\"Aug:0.35\"],\"y0s\":[1.0,1.0,2.0,3.0],\"y1s\":[1.0,1.0,3.0,3.0]}},\"id\":\"2fa3c479-bc1b-4da4-9bbf-6f0943d480b0\",\"type\":\"ColumnDataSource\"},{\"attributes\":{\"data_source\":{\"id\":\"7a511078-82f9-492b-9e04-760f052eb32c\",\"type\":\"ColumnDataSource\"},\"glyph\":{\"id\":\"3cd77846-cecd-432f-827a-dc86c5eb0679\",\"type\":\"Rect\"},\"hover_glyph\":null,\"nonselection_glyph\":null,\"selection_glyph\":null},\"id\":\"0e9c8bbd-263d-4869-b993-9d05d80b9b80\",\"type\":\"GlyphRenderer\"},{\"attributes\":{\"fill_alpha\":{\"field\":\"fill_alpha\"},\"fill_color\":{\"field\":\"color\"},\"height\":{\"field\":\"height\",\"units\":\"data\"},\"line_color\":{\"field\":\"line_color\"},\"width\":{\"field\":\"width\",\"units\":\"data\"},\"x\":{\"field\":\"x\"},\"y\":{\"field\":\"y\"}},\"id\":\"dc11ccc5-8ace-4ddc-8890-d557b22df8c2\",\"type\":\"Rect\"},{\"attributes\":{\"fill_alpha\":{\"value\":0.7},\"fill_color\":{\"value\":\"red\"},\"line_color\":{\"value\":\"red\"},\"size\":{\"units\":\"screen\",\"value\":5},\"x\":{\"field\":\"x_values\"},\"y\":{\"field\":\"y_values\"}},\"id\":\"16349a6b-65eb-4946-9f9d-22c8905cc178\",\"type\":\"Circle\"},{\"attributes\":{\"data_source\":{\"id\":\"f61a2cd1-9310-413e-b71d-b526096e9f38\",\"type\":\"ColumnDataSource\"},\"glyph\":{\"id\":\"d49920ed-6fac-4822-9322-c8f0701faae3\",\"type\":\"Rect\"},\"hover_glyph\":null,\"nonselection_glyph\":null,\"selection_glyph\":null},\"id\":\"e45311de-745c-4c92-a78b-1b1a84c4f1ed\",\"type\":\"GlyphRenderer\"},{\"attributes\":{\"callback\":null,\"column_names\":[\"line_color\",\"line_alpha\",\"color\",\"fill_alpha\",\"height\",\"width\",\"y\",\"x\",\"label\"],\"data\":{\"chart_index\":[{\"label\":\"Nov\"}],\"color\":[\"#df5320\"],\"fill_alpha\":[0.8],\"height\":[2.25],\"label\":[\"Nov\"],\"line_alpha\":[1.0],\"line_color\":[\"black\"],\"width\":[0.8],\"x\":[\"Nov\"],\"y\":[2.625]}},\"id\":\"281f4ce4-cb2a-4c66-bfd4-feaebd6c6643\",\"type\":\"ColumnDataSource\"},{\"attributes\":{\"plot\":{\"id\":\"c59b745a-c991-461a-971a-9918a5d9a975\",\"subtype\":\"Chart\",\"type\":\"Plot\"}},\"id\":\"bb77068e-f037-4229-966f-207f16e7fd1d\",\"type\":\"SaveTool\"},{\"attributes\":{\"callback\":null,\"column_names\":[\"line_color\",\"line_alpha\",\"color\",\"fill_alpha\",\"height\",\"width\",\"y\",\"x\",\"label\"],\"data\":{\"chart_index\":[{\"label\":\"Jan\"}],\"color\":[\"#00ad9c\"],\"fill_alpha\":[0.8],\"height\":[0.0],\"label\":[\"Jan\"],\"line_alpha\":[1.0],\"line_color\":[\"black\"],\"width\":[0.8],\"x\":[\"Jan\"],\"y\":[2.0]}},\"id\":\"0b7120c9-37e9-4260-a726-75c121c69a1f\",\"type\":\"ColumnDataSource\"},{\"attributes\":{\"fill_alpha\":{\"field\":\"fill_alpha\"},\"fill_color\":{\"field\":\"color\"},\"height\":{\"field\":\"height\",\"units\":\"data\"},\"line_color\":{\"field\":\"line_color\"},\"width\":{\"field\":\"width\",\"units\":\"data\"},\"x\":{\"field\":\"x\"},\"y\":{\"field\":\"y\"}},\"id\":\"cf4e2eaf-e1b5-4f98-bc1c-e02a2412c5cf\",\"type\":\"Rect\"},{\"attributes\":{\"data_source\":{\"id\":\"b9177e47-2b5c-4fed-88eb-c639c4de1304\",\"type\":\"ColumnDataSource\"},\"glyph\":{\"id\":\"932daff7-1f4d-49a5-8557-4eaa017fee2a\",\"type\":\"Segment\"},\"hover_glyph\":null,\"nonselection_glyph\":null,\"selection_glyph\":null},\"id\":\"12daf2fb-a49c-4253-9c52-1ed74758859a\",\"type\":\"GlyphRenderer\"},{\"attributes\":{\"fill_alpha\":{\"field\":\"fill_alpha\"},\"fill_color\":{\"field\":\"color\"},\"height\":{\"field\":\"height\",\"units\":\"data\"},\"line_color\":{\"field\":\"line_color\"},\"width\":{\"field\":\"width\",\"units\":\"data\"},\"x\":{\"field\":\"x\"},\"y\":{\"field\":\"y\"}},\"id\":\"7a434acd-3365-45a2-ac58-e574be80f233\",\"type\":\"Rect\"},{\"attributes\":{\"fill_alpha\":{\"value\":0.7},\"fill_color\":{\"value\":\"red\"},\"line_color\":{\"value\":\"red\"},\"size\":{\"units\":\"screen\",\"value\":5},\"x\":{\"field\":\"x_values\"},\"y\":{\"field\":\"y_values\"}},\"id\":\"5ffff47d-2d76-424f-8998-be8dfafd0cba\",\"type\":\"Circle\"},{\"attributes\":{\"callback\":null,\"column_names\":[\"line_color\",\"line_alpha\",\"color\",\"fill_alpha\",\"height\",\"width\",\"y\",\"x\",\"label\"],\"data\":{\"chart_index\":[{\"label\":\"Mar\"}],\"color\":[\"#5ab738\"],\"fill_alpha\":[0.8],\"height\":[0.0],\"label\":[\"Mar\"],\"line_alpha\":[1.0],\"line_color\":[\"black\"],\"width\":[0.8],\"x\":[\"Mar\"],\"y\":[1.0]}},\"id\":\"bc45b52a-ed5d-4b1d-95e2-d61f544c4215\",\"type\":\"ColumnDataSource\"},{\"attributes\":{\"data_source\":{\"id\":\"bc45b52a-ed5d-4b1d-95e2-d61f544c4215\",\"type\":\"ColumnDataSource\"},\"glyph\":{\"id\":\"bbb2da16-818c-4e2b-8366-d0ec583571e6\",\"type\":\"Rect\"},\"hover_glyph\":null,\"nonselection_glyph\":null,\"selection_glyph\":null},\"id\":\"b6efa8e7-e7c3-4fd2-8903-14a697f4d5b4\",\"type\":\"GlyphRenderer\"},{\"attributes\":{\"active_drag\":\"auto\",\"active_scroll\":\"auto\",\"active_tap\":\"auto\",\"tools\":[{\"id\":\"76c86e9d-f6ca-4673-a1fb-59a83552c65e\",\"type\":\"PanTool\"},{\"id\":\"d88e8607-a6d2-4d52-97d5-c20d5768ab00\",\"type\":\"WheelZoomTool\"},{\"id\":\"b6709fbf-6b63-405c-b692-d9ec00fc0289\",\"type\":\"BoxZoomTool\"},{\"id\":\"bb77068e-f037-4229-966f-207f16e7fd1d\",\"type\":\"SaveTool\"},{\"id\":\"ccd5a873-9e2b-4abc-87b4-a3cd5dc0c5ab\",\"type\":\"ResetTool\"},{\"id\":\"143e6517-975d-45a3-b464-e82df1ef7ac5\",\"type\":\"HelpTool\"}]},\"id\":\"cf9c93df-3217-47ac-b5f0-7bd18cdb1444\",\"type\":\"Toolbar\"},{\"attributes\":{\"fill_alpha\":{\"field\":\"fill_alpha\"},\"fill_color\":{\"field\":\"color\"},\"height\":{\"field\":\"height\",\"units\":\"data\"},\"line_color\":{\"field\":\"line_color\"},\"width\":{\"field\":\"width\",\"units\":\"data\"},\"x\":{\"field\":\"x\"},\"y\":{\"field\":\"y\"}},\"id\":\"88778914-74ec-4dc3-a118-069d7674782f\",\"type\":\"Rect\"},{\"attributes\":{\"callback\":null,\"column_names\":[\"line_color\",\"line_alpha\",\"color\",\"fill_alpha\",\"height\",\"width\",\"y\",\"x\",\"label\"],\"data\":{\"chart_index\":[{\"label\":\"Nov\"}],\"color\":[\"#df5320\"],\"fill_alpha\":[0.8],\"height\":[0.5],\"label\":[\"Nov\"],\"line_alpha\":[1.0],\"line_color\":[\"black\"],\"width\":[0.8],\"x\":[\"Nov\"],\"y\":[1.25]}},\"id\":\"aff123e3-b16a-445a-959b-a36d2b45d8d6\",\"type\":\"ColumnDataSource\"},{\"attributes\":{\"plot\":{\"id\":\"c59b745a-c991-461a-971a-9918a5d9a975\",\"subtype\":\"Chart\",\"type\":\"Plot\"}},\"id\":\"143e6517-975d-45a3-b464-e82df1ef7ac5\",\"type\":\"HelpTool\"},{\"attributes\":{\"data_source\":{\"id\":\"2f756728-57dc-49ad-9fe4-3ea6350f1275\",\"type\":\"ColumnDataSource\"},\"glyph\":{\"id\":\"be94bbf7-4dfd-4103-971a-f31d0b28be5c\",\"type\":\"Circle\"},\"hover_glyph\":null,\"nonselection_glyph\":null,\"selection_glyph\":null},\"id\":\"49fc4800-1277-4ce1-a3f0-002b9609cbab\",\"type\":\"GlyphRenderer\"},{\"attributes\":{\"fill_alpha\":{\"field\":\"fill_alpha\"},\"fill_color\":{\"field\":\"color\"},\"height\":{\"field\":\"height\",\"units\":\"data\"},\"line_color\":{\"field\":\"line_color\"},\"width\":{\"field\":\"width\",\"units\":\"data\"},\"x\":{\"field\":\"x\"},\"y\":{\"field\":\"y\"}},\"id\":\"583446ce-6431-469c-a292-e8e6f6810404\",\"type\":\"Rect\"},{\"attributes\":{\"callback\":null,\"column_names\":[\"x0s\",\"y0s\",\"x1s\",\"y1s\"],\"data\":{\"chart_index\":[{\"label\":\"Oct\"},{\"label\":\"Oct\"},{\"label\":\"Oct\"},{\"label\":\"Oct\"}],\"label\":[\"Oct\",\"Oct\",\"Oct\",\"Oct\"],\"x0s\":[\"Oct:0.5\",\"Oct:0.65\",\"Oct:0.5\",\"Oct:0.65\"],\"x1s\":[\"Oct:0.5\",\"Oct:0.35\",\"Oct:0.5\",\"Oct:0.35\"],\"y0s\":[1.0,1.0,1.5,2.25],\"y1s\":[1.0,1.0,2.25,2.25]}},\"id\":\"16e945d3-c6dc-45b6-90b8-c1d909232b91\",\"type\":\"ColumnDataSource\"},{\"attributes\":{\"data_source\":{\"id\":\"b6837772-47d2-4452-b955-9c91285477fb\",\"type\":\"ColumnDataSource\"},\"glyph\":{\"id\":\"dc11ccc5-8ace-4ddc-8890-d557b22df8c2\",\"type\":\"Rect\"},\"hover_glyph\":null,\"nonselection_glyph\":null,\"selection_glyph\":null},\"id\":\"471134c3-ebcf-41ff-b6ae-81a2d0af1010\",\"type\":\"GlyphRenderer\"},{\"attributes\":{\"line_width\":{\"value\":2},\"x0\":{\"field\":\"x0s\"},\"x1\":{\"field\":\"x1s\"},\"y0\":{\"field\":\"y0s\"},\"y1\":{\"field\":\"y1s\"}},\"id\":\"88ae983c-73ce-42ff-bd52-b0e3e838c55f\",\"type\":\"Segment\"},{\"attributes\":{\"fill_alpha\":{\"value\":0.7},\"fill_color\":{\"value\":\"red\"},\"line_color\":{\"value\":\"red\"},\"size\":{\"units\":\"screen\",\"value\":5},\"x\":{\"field\":\"x_values\"},\"y\":{\"field\":\"y_values\"}},\"id\":\"8a6deefa-7188-4b1b-8124-d9dbd5c51956\",\"type\":\"Circle\"},{\"attributes\":{\"line_width\":{\"value\":2},\"x0\":{\"field\":\"x0s\"},\"x1\":{\"field\":\"x1s\"},\"y0\":{\"field\":\"y0s\"},\"y1\":{\"field\":\"y1s\"}},\"id\":\"2a4aec3d-25a8-4399-abb5-af2ac8da5775\",\"type\":\"Segment\"},{\"attributes\":{\"fill_alpha\":{\"field\":\"fill_alpha\"},\"fill_color\":{\"field\":\"color\"},\"height\":{\"field\":\"height\",\"units\":\"data\"},\"line_color\":{\"field\":\"line_color\"},\"width\":{\"field\":\"width\",\"units\":\"data\"},\"x\":{\"field\":\"x\"},\"y\":{\"field\":\"y\"}},\"id\":\"aca9df1e-b5c5-4fde-81b4-57cf97be61e4\",\"type\":\"Rect\"},{\"attributes\":{\"callback\":null,\"column_names\":[\"line_color\",\"line_alpha\",\"color\",\"fill_alpha\",\"height\",\"width\",\"y\",\"x\",\"label\"],\"data\":{\"chart_index\":[{\"label\":\"Jan\"}],\"color\":[\"#00ad9c\"],\"fill_alpha\":[0.8],\"height\":[0.5],\"label\":[\"Jan\"],\"line_alpha\":[1.0],\"line_color\":[\"black\"],\"width\":[0.8],\"x\":[\"Jan\"],\"y\":[1.75]}},\"id\":\"4a6b9e56-b10b-446c-9b61-e5681ff49485\",\"type\":\"ColumnDataSource\"},{\"attributes\":{\"data_source\":{\"id\":\"534f917c-0c9c-4506-bbf8-59aa90ec5e60\",\"type\":\"ColumnDataSource\"},\"glyph\":{\"id\":\"02b49caf-2190-46f3-9c43-46d765f0f84c\",\"type\":\"Circle\"},\"hover_glyph\":null,\"nonselection_glyph\":null,\"selection_glyph\":null},\"id\":\"91271264-fda1-4a5c-944f-b933f0446a8f\",\"type\":\"GlyphRenderer\"},{\"attributes\":{\"data_source\":{\"id\":\"76d6f695-591a-4782-a130-3df5bdecf517\",\"type\":\"ColumnDataSource\"},\"glyph\":{\"id\":\"2a4aec3d-25a8-4399-abb5-af2ac8da5775\",\"type\":\"Segment\"},\"hover_glyph\":null,\"nonselection_glyph\":null,\"selection_glyph\":null},\"id\":\"3cbccda6-5f76-415a-a5aa-dec81b7ede3e\",\"type\":\"GlyphRenderer\"},{\"attributes\":{\"data_source\":{\"id\":\"02d4a4de-4b7d-4ba1-8b38-abcd9143e9e9\",\"type\":\"ColumnDataSource\"},\"glyph\":{\"id\":\"b67e2297-7c3d-4de3-9727-d7e632b55b1d\",\"type\":\"Circle\"},\"hover_glyph\":null,\"nonselection_glyph\":null,\"selection_glyph\":null},\"id\":\"b36fcc9e-8523-434a-b70d-79044c999c6d\",\"type\":\"GlyphRenderer\"},{\"attributes\":{\"data_source\":{\"id\":\"2fa3c479-bc1b-4da4-9bbf-6f0943d480b0\",\"type\":\"ColumnDataSource\"},\"glyph\":{\"id\":\"86bea375-5f84-4951-a7ee-67481e8fe4eb\",\"type\":\"Segment\"},\"hover_glyph\":null,\"nonselection_glyph\":null,\"selection_glyph\":null},\"id\":\"dd0414f4-9576-464c-938d-528dd55dc79b\",\"type\":\"GlyphRenderer\"},{\"attributes\":{\"data_source\":{\"id\":\"ebc6bc4c-a863-4483-a13a-6434f97f52c4\",\"type\":\"ColumnDataSource\"},\"glyph\":{\"id\":\"06037ed2-d0da-42a8-b3f1-ba1928b743cf\",\"type\":\"Rect\"},\"hover_glyph\":null,\"nonselection_glyph\":null,\"selection_glyph\":null},\"id\":\"d5243c6b-1e57-4c1c-b58c-56a2acc1eb89\",\"type\":\"GlyphRenderer\"},{\"attributes\":{\"callback\":null,\"column_names\":[\"x0s\",\"y0s\",\"x1s\",\"y1s\"],\"data\":{\"chart_index\":[{\"label\":\"Nov\"},{\"label\":\"Nov\"},{\"label\":\"Nov\"},{\"label\":\"Nov\"}],\"label\":[\"Nov\",\"Nov\",\"Nov\",\"Nov\"],\"x0s\":[\"Nov:0.5\",\"Nov:0.65\",\"Nov:0.5\",\"Nov:0.65\"],\"x1s\":[\"Nov:0.5\",\"Nov:0.35\",\"Nov:0.5\",\"Nov:0.35\"],\"y0s\":[1.0,1.0,3.75,7.875],\"y1s\":[1.0,1.0,7.875,7.875]}},\"id\":\"ce389644-ae87-4f97-bc9e-8f2187fd2c5f\",\"type\":\"ColumnDataSource\"},{\"attributes\":{\"line_width\":{\"value\":2},\"x0\":{\"field\":\"x0s\"},\"x1\":{\"field\":\"x1s\"},\"y0\":{\"field\":\"y0s\"},\"y1\":{\"field\":\"y1s\"}},\"id\":\"932daff7-1f4d-49a5-8557-4eaa017fee2a\",\"type\":\"Segment\"},{\"attributes\":{\"fill_alpha\":{\"field\":\"fill_alpha\"},\"fill_color\":{\"field\":\"color\"},\"height\":{\"field\":\"height\",\"units\":\"data\"},\"line_color\":{\"field\":\"line_color\"},\"width\":{\"field\":\"width\",\"units\":\"data\"},\"x\":{\"field\":\"x\"},\"y\":{\"field\":\"y\"}},\"id\":\"4e5939c0-d1d7-45c4-a10f-255e07a98c28\",\"type\":\"Rect\"},{\"attributes\":{\"data_source\":{\"id\":\"618b3115-5781-4bfa-a0b4-ace949051926\",\"type\":\"ColumnDataSource\"},\"glyph\":{\"id\":\"95650563-ab61-4af0-afbd-f6dbcd8eb552\",\"type\":\"Rect\"},\"hover_glyph\":null,\"nonselection_glyph\":null,\"selection_glyph\":null},\"id\":\"42add9f8-4dc2-44ac-90c4-b4c1a4d081da\",\"type\":\"GlyphRenderer\"},{\"attributes\":{\"fill_alpha\":{\"field\":\"fill_alpha\"},\"fill_color\":{\"field\":\"color\"},\"height\":{\"field\":\"height\",\"units\":\"data\"},\"line_color\":{\"field\":\"line_color\"},\"width\":{\"field\":\"width\",\"units\":\"data\"},\"x\":{\"field\":\"x\"},\"y\":{\"field\":\"y\"}},\"id\":\"8889eef2-c0ee-41e6-9886-c33ee710d1dd\",\"type\":\"Rect\"},{\"attributes\":{\"callback\":null,\"column_names\":[\"line_color\",\"line_alpha\",\"color\",\"fill_alpha\",\"height\",\"width\",\"y\",\"x\",\"label\"],\"data\":{\"chart_index\":[{\"label\":\"Jul\"}],\"color\":[\"#c33ff3\"],\"fill_alpha\":[0.8],\"height\":[0.5],\"label\":[\"Jul\"],\"line_alpha\":[1.0],\"line_color\":[\"black\"],\"width\":[0.8],\"x\":[\"Jul\"],\"y\":[1.25]}},\"id\":\"19665dbe-42a7-43d2-a32f-fafaa199e441\",\"type\":\"ColumnDataSource\"},{\"attributes\":{\"fill_alpha\":{\"value\":0.7},\"fill_color\":{\"value\":\"red\"},\"line_color\":{\"value\":\"red\"},\"size\":{\"units\":\"screen\",\"value\":5},\"x\":{\"field\":\"x_values\"},\"y\":{\"field\":\"y_values\"}},\"id\":\"8ddf5584-d4fb-42e9-9040-71e0d2335582\",\"type\":\"Circle\"},{\"attributes\":{\"data_source\":{\"id\":\"bd4e0a47-1501-479e-abb2-eb312ada177d\",\"type\":\"ColumnDataSource\"},\"glyph\":{\"id\":\"5ffff47d-2d76-424f-8998-be8dfafd0cba\",\"type\":\"Circle\"},\"hover_glyph\":null,\"nonselection_glyph\":null,\"selection_glyph\":null},\"id\":\"1de20a3f-1fed-4602-a64a-24747d7f9517\",\"type\":\"GlyphRenderer\"},{\"attributes\":{\"line_width\":{\"value\":2},\"x0\":{\"field\":\"x0s\"},\"x1\":{\"field\":\"x1s\"},\"y0\":{\"field\":\"y0s\"},\"y1\":{\"field\":\"y1s\"}},\"id\":\"ae7980c9-0910-4c4e-8543-fbe8ecf036bd\",\"type\":\"Segment\"},{\"attributes\":{\"fill_alpha\":{\"field\":\"fill_alpha\"},\"fill_color\":{\"field\":\"color\"},\"height\":{\"field\":\"height\",\"units\":\"data\"},\"line_color\":{\"field\":\"line_color\"},\"width\":{\"field\":\"width\",\"units\":\"data\"},\"x\":{\"field\":\"x\"},\"y\":{\"field\":\"y\"}},\"id\":\"1ab347e0-10d2-4a2a-9e67-a615d75165c6\",\"type\":\"Rect\"},{\"attributes\":{\"data_source\":{\"id\":\"ce389644-ae87-4f97-bc9e-8f2187fd2c5f\",\"type\":\"ColumnDataSource\"},\"glyph\":{\"id\":\"92a62805-9b8e-4158-91b4-f4c6084e79a6\",\"type\":\"Segment\"},\"hover_glyph\":null,\"nonselection_glyph\":null,\"selection_glyph\":null},\"id\":\"b3d8e118-cce8-4dee-b91d-cc4d56203c96\",\"type\":\"GlyphRenderer\"},{\"attributes\":{\"fill_alpha\":{\"field\":\"fill_alpha\"},\"fill_color\":{\"field\":\"color\"},\"height\":{\"field\":\"height\",\"units\":\"data\"},\"line_color\":{\"field\":\"line_color\"},\"width\":{\"field\":\"width\",\"units\":\"data\"},\"x\":{\"field\":\"x\"},\"y\":{\"field\":\"y\"}},\"id\":\"4aaa4525-a93f-4216-8788-4285a8635420\",\"type\":\"Rect\"},{\"attributes\":{\"axis_label\":\"\",\"formatter\":{\"id\":\"68e59c24-0755-4f14-89df-77786159f540\",\"type\":\"CategoricalTickFormatter\"},\"major_label_orientation\":0.7853981633974483,\"plot\":{\"id\":\"c59b745a-c991-461a-971a-9918a5d9a975\",\"subtype\":\"Chart\",\"type\":\"Plot\"},\"ticker\":{\"id\":\"51908f76-6324-44e2-bfb5-6c100bec254e\",\"type\":\"CategoricalTicker\"}},\"id\":\"0b81fedc-0920-4e86-badd-87beb170d0da\",\"type\":\"CategoricalAxis\"},{\"attributes\":{\"fill_alpha\":{\"field\":\"fill_alpha\"},\"fill_color\":{\"field\":\"color\"},\"height\":{\"field\":\"height\",\"units\":\"data\"},\"line_color\":{\"field\":\"line_color\"},\"width\":{\"field\":\"width\",\"units\":\"data\"},\"x\":{\"field\":\"x\"},\"y\":{\"field\":\"y\"}},\"id\":\"bd61752d-89a1-439f-abbf-7d4a24850f43\",\"type\":\"Rect\"},{\"attributes\":{\"data_source\":{\"id\":\"281f4ce4-cb2a-4c66-bfd4-feaebd6c6643\",\"type\":\"ColumnDataSource\"},\"glyph\":{\"id\":\"bd61752d-89a1-439f-abbf-7d4a24850f43\",\"type\":\"Rect\"},\"hover_glyph\":null,\"nonselection_glyph\":null,\"selection_glyph\":null},\"id\":\"6ec3ea2d-0a5a-44fe-8a36-a579037f00ff\",\"type\":\"GlyphRenderer\"},{\"attributes\":{\"below\":[{\"id\":\"0b81fedc-0920-4e86-badd-87beb170d0da\",\"type\":\"CategoricalAxis\"}],\"left\":[{\"id\":\"bc0b0218-7824-4a09-a265-61959282c01f\",\"type\":\"LinearAxis\"}],\"plot_width\":800,\"renderers\":[{\"id\":\"ef1b8807-1d3b-46a7-8e65-93e548394045\",\"type\":\"BoxAnnotation\"},{\"id\":\"6811607d-82dd-4d07-b083-5ae6b16315a5\",\"type\":\"GlyphRenderer\"},{\"id\":\"78593512-bab9-44bc-bb10-716408524b9a\",\"type\":\"GlyphRenderer\"},{\"id\":\"ce4fb693-afbd-4d02-8451-0c2b8204ea74\",\"type\":\"GlyphRenderer\"},{\"id\":\"42add9f8-4dc2-44ac-90c4-b4c1a4d081da\",\"type\":\"GlyphRenderer\"},{\"id\":\"e00c094e-b16d-4831-b568-9754fbba2b12\",\"type\":\"GlyphRenderer\"},{\"id\":\"49fc4800-1277-4ce1-a3f0-002b9609cbab\",\"type\":\"GlyphRenderer\"},{\"id\":\"787b59bf-55e9-40fa-add0-7ac6acff06bb\",\"type\":\"GlyphRenderer\"},{\"id\":\"b6efa8e7-e7c3-4fd2-8903-14a697f4d5b4\",\"type\":\"GlyphRenderer\"},{\"id\":\"0e9c8bbd-263d-4869-b993-9d05d80b9b80\",\"type\":\"GlyphRenderer\"},{\"id\":\"81129332-4bfe-4a66-91ea-c0d52d6442b8\",\"type\":\"GlyphRenderer\"},{\"id\":\"e8d1adab-5f32-44f1-b580-414729b1bf5e\",\"type\":\"GlyphRenderer\"},{\"id\":\"cd326114-23b5-4530-ac40-c676fce1fd8f\",\"type\":\"GlyphRenderer\"},{\"id\":\"1b2dd858-c43c-47c3-92c3-f9b30f4615d8\",\"type\":\"GlyphRenderer\"},{\"id\":\"df8e7d4b-6f51-4e26-a92e-69cdcdde5d9a\",\"type\":\"GlyphRenderer\"},{\"id\":\"6d04fbb3-0f25-4700-86dc-3877688b3f83\",\"type\":\"GlyphRenderer\"},{\"id\":\"92df230c-65ee-42a2-81dc-c388787588a9\",\"type\":\"GlyphRenderer\"},{\"id\":\"5fd8d2ad-93e4-49a6-88b0-91ba971983e4\",\"type\":\"GlyphRenderer\"},{\"id\":\"12daf2fb-a49c-4253-9c52-1ed74758859a\",\"type\":\"GlyphRenderer\"},{\"id\":\"593f5dc4-2a88-4d2c-9315-0a3ca09e2dac\",\"type\":\"GlyphRenderer\"},{\"id\":\"d5243c6b-1e57-4c1c-b58c-56a2acc1eb89\",\"type\":\"GlyphRenderer\"},{\"id\":\"b36fcc9e-8523-434a-b70d-79044c999c6d\",\"type\":\"GlyphRenderer\"},{\"id\":\"37cae49b-f0ea-41d7-b2cd-6c862ed86d3a\",\"type\":\"GlyphRenderer\"},{\"id\":\"bb861289-5a19-494e-9710-4ba0410f87d0\",\"type\":\"GlyphRenderer\"},{\"id\":\"e45311de-745c-4c92-a78b-1b1a84c4f1ed\",\"type\":\"GlyphRenderer\"},{\"id\":\"c06c7ebe-7480-4c56-8083-ae2a6ce6ab9a\",\"type\":\"GlyphRenderer\"},{\"id\":\"471134c3-ebcf-41ff-b6ae-81a2d0af1010\",\"type\":\"GlyphRenderer\"},{\"id\":\"f23dd5b9-6bc7-4aaf-a675-6dd5ff8cf99c\",\"type\":\"GlyphRenderer\"},{\"id\":\"dd0414f4-9576-464c-938d-528dd55dc79b\",\"type\":\"GlyphRenderer\"},{\"id\":\"9563f04b-dd7e-43f1-8a54-9614b79c90e6\",\"type\":\"GlyphRenderer\"},{\"id\":\"bbeaacd3-3ef5-4c52-87d8-a7a908d52c19\",\"type\":\"GlyphRenderer\"},{\"id\":\"158a6d1d-9ef8-46a4-b8dc-f7601819b9d6\",\"type\":\"GlyphRenderer\"},{\"id\":\"a11650b3-1bc9-41f6-8536-7fed55848894\",\"type\":\"GlyphRenderer\"},{\"id\":\"f19efad7-454f-4092-b0c0-004cb1e1bc3f\",\"type\":\"GlyphRenderer\"},{\"id\":\"5c5ab017-2629-4031-a328-e7e775e864ce\",\"type\":\"GlyphRenderer\"},{\"id\":\"5d4cb325-92de-46a2-9e8b-16d641214930\",\"type\":\"GlyphRenderer\"},{\"id\":\"0fbb6b58-6f8e-4ce6-a99b-4247702489ba\",\"type\":\"GlyphRenderer\"},{\"id\":\"a248aba6-d1f6-4f98-bc99-a6da4c5f059f\",\"type\":\"GlyphRenderer\"},{\"id\":\"6ec3ea2d-0a5a-44fe-8a36-a579037f00ff\",\"type\":\"GlyphRenderer\"},{\"id\":\"91271264-fda1-4a5c-944f-b933f0446a8f\",\"type\":\"GlyphRenderer\"},{\"id\":\"b3d8e118-cce8-4dee-b91d-cc4d56203c96\",\"type\":\"GlyphRenderer\"},{\"id\":\"bf7bf140-9099-4d72-a720-ec8433b479e8\",\"type\":\"GlyphRenderer\"},{\"id\":\"86aaa10b-dfa4-40bf-b646-67229b994e67\",\"type\":\"GlyphRenderer\"},{\"id\":\"1de20a3f-1fed-4602-a64a-24747d7f9517\",\"type\":\"GlyphRenderer\"},{\"id\":\"3cbccda6-5f76-415a-a5aa-dec81b7ede3e\",\"type\":\"GlyphRenderer\"},{\"id\":\"c6c13d0f-34cb-44c7-9dd1-4dbf9e0767f9\",\"type\":\"Legend\"},{\"id\":\"0b81fedc-0920-4e86-badd-87beb170d0da\",\"type\":\"CategoricalAxis\"},{\"id\":\"bc0b0218-7824-4a09-a265-61959282c01f\",\"type\":\"LinearAxis\"},{\"id\":\"35a902c9-f360-4901-8b16-4dcd7306da81\",\"type\":\"Grid\"}],\"title\":{\"id\":\"4e949312-6308-4c64-b79e-7651cf3584e7\",\"type\":\"Title\"},\"tool_events\":{\"id\":\"8179bc84-3d3e-400f-94da-f08a49c70c9b\",\"type\":\"ToolEvents\"},\"toolbar\":{\"id\":\"cf9c93df-3217-47ac-b5f0-7bd18cdb1444\",\"type\":\"Toolbar\"},\"x_mapper_type\":\"auto\",\"x_range\":{\"id\":\"8aa655ea-678a-4b37-8b6d-132336c3941f\",\"type\":\"FactorRange\"},\"y_mapper_type\":\"auto\",\"y_range\":{\"id\":\"205b3c5d-5926-483e-99b6-f55f4c7dc9fa\",\"type\":\"Range1d\"}},\"id\":\"c59b745a-c991-461a-971a-9918a5d9a975\",\"subtype\":\"Chart\",\"type\":\"Plot\"},{\"attributes\":{\"fill_alpha\":{\"field\":\"fill_alpha\"},\"fill_color\":{\"field\":\"color\"},\"height\":{\"field\":\"height\",\"units\":\"data\"},\"line_color\":{\"field\":\"line_color\"},\"width\":{\"field\":\"width\",\"units\":\"data\"},\"x\":{\"field\":\"x\"},\"y\":{\"field\":\"y\"}},\"id\":\"d4eab521-a2d4-4491-b4c7-2e242fc797e1\",\"type\":\"Rect\"},{\"attributes\":{\"data_source\":{\"id\":\"9044bf0d-bf3b-4eac-8641-ec3cb5f5aa94\",\"type\":\"ColumnDataSource\"},\"glyph\":{\"id\":\"fd928b66-d128-44fb-a80f-75a87ddf940e\",\"type\":\"Segment\"},\"hover_glyph\":null,\"nonselection_glyph\":null,\"selection_glyph\":null},\"id\":\"c06c7ebe-7480-4c56-8083-ae2a6ce6ab9a\",\"type\":\"GlyphRenderer\"},{\"attributes\":{\"callback\":null,\"column_names\":[\"x0s\",\"y0s\",\"x1s\",\"y1s\"],\"data\":{\"chart_index\":[{\"label\":\"Apr\"},{\"label\":\"Apr\"},{\"label\":\"Apr\"},{\"label\":\"Apr\"}],\"label\":[\"Apr\",\"Apr\",\"Apr\",\"Apr\"],\"x0s\":[\"Apr:0.5\",\"Apr:0.65\",\"Apr:0.5\",\"Apr:0.65\"],\"x1s\":[\"Apr:0.5\",\"Apr:0.35\",\"Apr:0.5\",\"Apr:0.35\"],\"y0s\":[1.0,1.0,2.0,3.5],\"y1s\":[1.0,1.0,3.5,3.5]}},\"id\":\"d72cac45-d000-4966-82fe-3ee8cd8a8013\",\"type\":\"ColumnDataSource\"},{\"attributes\":{\"data_source\":{\"id\":\"3ffa2029-1877-4ad8-a236-c1dee507c943\",\"type\":\"ColumnDataSource\"},\"glyph\":{\"id\":\"c9de98d6-2729-4208-8751-9b46a6471498\",\"type\":\"Segment\"},\"hover_glyph\":null,\"nonselection_glyph\":null,\"selection_glyph\":null},\"id\":\"37cae49b-f0ea-41d7-b2cd-6c862ed86d3a\",\"type\":\"GlyphRenderer\"},{\"attributes\":{\"plot\":{\"id\":\"c59b745a-c991-461a-971a-9918a5d9a975\",\"subtype\":\"Chart\",\"type\":\"Plot\"}},\"id\":\"ccd5a873-9e2b-4abc-87b4-a3cd5dc0c5ab\",\"type\":\"ResetTool\"},{\"attributes\":{\"line_width\":{\"value\":2},\"x0\":{\"field\":\"x0s\"},\"x1\":{\"field\":\"x1s\"},\"y0\":{\"field\":\"y0s\"},\"y1\":{\"field\":\"y1s\"}},\"id\":\"c9de98d6-2729-4208-8751-9b46a6471498\",\"type\":\"Segment\"},{\"attributes\":{\"callback\":null,\"column_names\":[\"x_values\",\"y_values\"],\"data\":{\"chart_index\":[{\"label\":\"Mar\"},{\"label\":\"Mar\"}],\"label\":[\"Mar\",\"Mar\"],\"x_values\":[\"Mar:0.5\",\"Mar:0.5\"],\"y_values\":[7,3]}},\"id\":\"6f24ae56-085f-4e7b-9d82-6991e2e858de\",\"type\":\"ColumnDataSource\"},{\"attributes\":{\"fill_alpha\":{\"field\":\"fill_alpha\"},\"fill_color\":{\"field\":\"color\"},\"height\":{\"field\":\"height\",\"units\":\"data\"},\"line_color\":{\"field\":\"line_color\"},\"width\":{\"field\":\"width\",\"units\":\"data\"},\"x\":{\"field\":\"x\"},\"y\":{\"field\":\"y\"}},\"id\":\"90092daf-fdee-47a1-af11-90d80ad704be\",\"type\":\"Rect\"},{\"attributes\":{\"callback\":null,\"column_names\":[\"x0s\",\"y0s\",\"x1s\",\"y1s\"],\"data\":{\"chart_index\":[{\"label\":\"Jun\"},{\"label\":\"Jun\"},{\"label\":\"Jun\"},{\"label\":\"Jun\"}],\"label\":[\"Jun\",\"Jun\",\"Jun\",\"Jun\"],\"x0s\":[\"Jun:0.5\",\"Jun:0.65\",\"Jun:0.5\",\"Jun:0.65\"],\"x1s\":[\"Jun:0.5\",\"Jun:0.35\",\"Jun:0.5\",\"Jun:0.35\"],\"y0s\":[1.0,1.0,1.0,1.0],\"y1s\":[1.0,1.0,1.0,1.0]}},\"id\":\"3ffa2029-1877-4ad8-a236-c1dee507c943\",\"type\":\"ColumnDataSource\"},{\"attributes\":{\"line_width\":{\"value\":2},\"x0\":{\"field\":\"x0s\"},\"x1\":{\"field\":\"x1s\"},\"y0\":{\"field\":\"y0s\"},\"y1\":{\"field\":\"y1s\"}},\"id\":\"fd928b66-d128-44fb-a80f-75a87ddf940e\",\"type\":\"Segment\"},{\"attributes\":{\"fill_alpha\":{\"field\":\"fill_alpha\"},\"fill_color\":{\"field\":\"color\"},\"height\":{\"field\":\"height\",\"units\":\"data\"},\"line_color\":{\"field\":\"line_color\"},\"width\":{\"field\":\"width\",\"units\":\"data\"},\"x\":{\"field\":\"x\"},\"y\":{\"field\":\"y\"}},\"id\":\"7987738f-b7a0-4f09-ad1b-ecddd7fb4002\",\"type\":\"Rect\"},{\"attributes\":{\"line_width\":{\"value\":2},\"x0\":{\"field\":\"x0s\"},\"x1\":{\"field\":\"x1s\"},\"y0\":{\"field\":\"y0s\"},\"y1\":{\"field\":\"y1s\"}},\"id\":\"149ad9a9-4878-4d64-b64f-150b1b07464f\",\"type\":\"Segment\"},{\"attributes\":{\"callback\":null,\"end\":10.55},\"id\":\"205b3c5d-5926-483e-99b6-f55f4c7dc9fa\",\"type\":\"Range1d\"},{\"attributes\":{\"data_source\":{\"id\":\"0ab2e46e-c201-44b6-8c63-5821bf9b59e9\",\"type\":\"ColumnDataSource\"},\"glyph\":{\"id\":\"149ad9a9-4878-4d64-b64f-150b1b07464f\",\"type\":\"Segment\"},\"hover_glyph\":null,\"nonselection_glyph\":null,\"selection_glyph\":null},\"id\":\"ce4fb693-afbd-4d02-8451-0c2b8204ea74\",\"type\":\"GlyphRenderer\"},{\"attributes\":{\"line_width\":{\"value\":2},\"x0\":{\"field\":\"x0s\"},\"x1\":{\"field\":\"x1s\"},\"y0\":{\"field\":\"y0s\"},\"y1\":{\"field\":\"y1s\"}},\"id\":\"ee1ae6ed-35b6-470c-baff-f3defd7d147f\",\"type\":\"Segment\"},{\"attributes\":{\"data_source\":{\"id\":\"a65d60ed-68e3-4786-98c7-419d1b342e33\",\"type\":\"ColumnDataSource\"},\"glyph\":{\"id\":\"7a434acd-3365-45a2-ac58-e574be80f233\",\"type\":\"Rect\"},\"hover_glyph\":null,\"nonselection_glyph\":null,\"selection_glyph\":null},\"id\":\"e00c094e-b16d-4831-b568-9754fbba2b12\",\"type\":\"GlyphRenderer\"},{\"attributes\":{\"callback\":null,\"column_names\":[\"line_color\",\"line_alpha\",\"color\",\"fill_alpha\",\"height\",\"width\",\"y\",\"x\",\"label\"],\"data\":{\"chart_index\":[{\"label\":\"Oct\"}],\"color\":[\"#00ad9c\"],\"fill_alpha\":[0.8],\"height\":[0.0],\"label\":[\"Oct\"],\"line_alpha\":[1.0],\"line_color\":[\"black\"],\"width\":[0.8],\"x\":[\"Oct\"],\"y\":[1.0]}},\"id\":\"b008b244-038a-43bd-b512-a21df406b4e7\",\"type\":\"ColumnDataSource\"},{\"attributes\":{},\"id\":\"f258b071-8165-4cb8-894e-408125d65eae\",\"type\":\"BasicTickFormatter\"},{\"attributes\":{\"fill_alpha\":{\"field\":\"fill_alpha\"},\"fill_color\":{\"field\":\"color\"},\"height\":{\"field\":\"height\",\"units\":\"data\"},\"line_color\":{\"field\":\"line_color\"},\"width\":{\"field\":\"width\",\"units\":\"data\"},\"x\":{\"field\":\"x\"},\"y\":{\"field\":\"y\"}},\"id\":\"d49920ed-6fac-4822-9322-c8f0701faae3\",\"type\":\"Rect\"},{\"attributes\":{\"line_width\":{\"value\":2},\"x0\":{\"field\":\"x0s\"},\"x1\":{\"field\":\"x1s\"},\"y0\":{\"field\":\"y0s\"},\"y1\":{\"field\":\"y1s\"}},\"id\":\"86bea375-5f84-4951-a7ee-67481e8fe4eb\",\"type\":\"Segment\"},{\"attributes\":{\"callback\":null,\"column_names\":[\"line_color\",\"line_alpha\",\"color\",\"fill_alpha\",\"height\",\"width\",\"y\",\"x\",\"label\"],\"data\":{\"chart_index\":[{\"label\":\"Sep\"}],\"color\":[\"#c33ff3\"],\"fill_alpha\":[0.8],\"height\":[0.0],\"label\":[\"Sep\"],\"line_alpha\":[1.0],\"line_color\":[\"black\"],\"width\":[0.8],\"x\":[\"Sep\"],\"y\":[1.0]}},\"id\":\"ef3ecd35-7218-49d3-9063-379f4a4c7d73\",\"type\":\"ColumnDataSource\"},{\"attributes\":{\"data_source\":{\"id\":\"e230db01-e4e6-4e80-ba70-1f591ae0dbbd\",\"type\":\"ColumnDataSource\"},\"glyph\":{\"id\":\"88ae983c-73ce-42ff-bd52-b0e3e838c55f\",\"type\":\"Segment\"},\"hover_glyph\":null,\"nonselection_glyph\":null,\"selection_glyph\":null},\"id\":\"e8d1adab-5f32-44f1-b580-414729b1bf5e\",\"type\":\"GlyphRenderer\"},{\"attributes\":{\"fill_alpha\":{\"field\":\"fill_alpha\"},\"fill_color\":{\"field\":\"color\"},\"height\":{\"field\":\"height\",\"units\":\"data\"},\"line_color\":{\"field\":\"line_color\"},\"width\":{\"field\":\"width\",\"units\":\"data\"},\"x\":{\"field\":\"x\"},\"y\":{\"field\":\"y\"}},\"id\":\"b2fe3719-ec16-48f5-9cad-1710753ff566\",\"type\":\"Rect\"},{\"attributes\":{\"callback\":null,\"column_names\":[\"line_color\",\"line_alpha\",\"color\",\"fill_alpha\",\"height\",\"width\",\"y\",\"x\",\"label\"],\"data\":{\"chart_index\":[{\"label\":\"Feb\"}],\"color\":[\"#df5320\"],\"fill_alpha\":[0.8],\"height\":[0.0],\"label\":[\"Feb\"],\"line_alpha\":[1.0],\"line_color\":[\"black\"],\"width\":[0.8],\"x\":[\"Feb\"],\"y\":[1.0]}},\"id\":\"618b3115-5781-4bfa-a0b4-ace949051926\",\"type\":\"ColumnDataSource\"},{\"attributes\":{\"data_source\":{\"id\":\"64e2b8cc-61c0-4fa3-a828-35d5464ce2bd\",\"type\":\"ColumnDataSource\"},\"glyph\":{\"id\":\"8a6deefa-7188-4b1b-8124-d9dbd5c51956\",\"type\":\"Circle\"},\"hover_glyph\":null,\"nonselection_glyph\":null,\"selection_glyph\":null},\"id\":\"5d4cb325-92de-46a2-9e8b-16d641214930\",\"type\":\"GlyphRenderer\"}],\"root_ids\":[\"c59b745a-c991-461a-971a-9918a5d9a975\"]},\"title\":\"Bokeh Application\",\"version\":\"0.12.0\"}};\n",
       "            var render_items = [{\"docid\":\"1516d1d3-4f15-42f8-9893-d426df2fd5b7\",\"elementid\":\"e2b24f38-d602-455b-a970-d6d76a175db2\",\"modelid\":\"c59b745a-c991-461a-971a-9918a5d9a975\",\"notebook_comms_target\":\"f24871b8-c9d5-4d3f-b110-60781756b292\"}];\n",
       "            \n",
       "            Bokeh.embed.embed_items(docs_json, render_items);\n",
       "        });\n",
       "      },\n",
       "      function(Bokeh) {\n",
       "      }\n",
       "    ];\n",
       "  \n",
       "    function run_inline_js() {\n",
       "      for (var i = 0; i < inline_js.length; i++) {\n",
       "        inline_js[i](window.Bokeh);\n",
       "      }\n",
       "    }\n",
       "  \n",
       "    if (window._bokeh_is_loading === 0) {\n",
       "      console.log(\"Bokeh: BokehJS loaded, going straight to plotting\");\n",
       "      run_inline_js();\n",
       "    } else {\n",
       "      load_libs(js_urls, function() {\n",
       "        console.log(\"Bokeh: BokehJS plotting callback run at\", now());\n",
       "        run_inline_js();\n",
       "      });\n",
       "    }\n",
       "  }(this));\n",
       "</script>"
      ]
     },
     "metadata": {},
     "output_type": "display_data"
    },
    {
     "data": {
      "text/html": [
       "<p><code>&lt;Bokeh Notebook handle for <strong>In[7]</strong>&gt;</code></p>"
      ],
      "text/plain": [
       "<bokeh.io._CommsHandle at 0x7f59d05af550>"
      ]
     },
     "execution_count": 7,
     "metadata": {},
     "output_type": "execute_result"
    }
   ],
   "source": [
    "from bokeh.charts import BoxPlot\n",
    "from bokeh.charts.attributes import CatAttr\n",
    "\n",
    "d = []\n",
    "l = []\n",
    "for m in range(12):\n",
    "    d = d + twitter_tweet_month[m]\n",
    "    l = l + [MONTHS[m]]*len(twitter_tweet_month[m])\n",
    "\n",
    "twitter_tweet_dict = dict(data=d, label=l)\n",
    "twitter_tweets_box = BoxPlot(twitter_tweet_dict, values='data', label=CatAttr(columns=['label'], sort=False), \n",
    "                             color='label', plot_width=800, title=\"twitter tweets\")\n",
    "\n",
    "twitter_tweets_box.xaxis.axis_label = \"\"\n",
    "twitter_tweets_box.yaxis.axis_label = \"tweets\"\n",
    "\n",
    "show(twitter_tweets_box)"
   ]
  }
 ],
 "metadata": {
  "kernelspec": {
   "display_name": "Python [Root]",
   "language": "python",
   "name": "Python [Root]"
  },
  "language_info": {
   "codemirror_mode": {
    "name": "ipython",
    "version": 2
   },
   "file_extension": ".py",
   "mimetype": "text/x-python",
   "name": "python",
   "nbconvert_exporter": "python",
   "pygments_lexer": "ipython2",
   "version": "2.7.12"
  }
 },
 "nbformat": 4,
 "nbformat_minor": 0
}
